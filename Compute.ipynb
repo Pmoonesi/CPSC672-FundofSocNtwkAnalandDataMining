{
 "cells": [
  {
   "cell_type": "code",
   "execution_count": 1,
   "id": "c704ce4b-ba19-42cb-8bfa-92b2b8c83b46",
   "metadata": {},
   "outputs": [],
   "source": [
    "import networkx as nx"
   ]
  },
  {
   "cell_type": "code",
   "execution_count": 4,
   "id": "c7edd526-437b-4149-a17b-be4a1f43dc85",
   "metadata": {},
   "outputs": [],
   "source": [
    "G = nx.read_gml('processed/years/2018-grouped/orig/month-1.gml')"
   ]
  },
  {
   "cell_type": "code",
   "execution_count": 5,
   "id": "be5494ef-2607-4318-9f0c-0e3a976083cb",
   "metadata": {},
   "outputs": [
    {
     "data": {
      "text/plain": [
       "(255, 13784)"
      ]
     },
     "execution_count": 5,
     "metadata": {},
     "output_type": "execute_result"
    }
   ],
   "source": [
    "G.number_of_nodes(), G.number_of_edges()"
   ]
  },
  {
   "cell_type": "code",
   "execution_count": 6,
   "id": "0dc53da4-e7e4-4cbf-9e10-22c68909d2f6",
   "metadata": {},
   "outputs": [],
   "source": [
    "import glob\n",
    "\n",
    "null_models = glob.glob('processed/years/2018-grouped/null/month-1-*.gml')"
   ]
  },
  {
   "cell_type": "markdown",
   "id": "64c019a6-6475-4e3d-8d9b-79503d0152fe",
   "metadata": {},
   "source": [
    "## (global) efficiency"
   ]
  },
  {
   "cell_type": "code",
   "execution_count": 46,
   "id": "30adbf0d-942c-45dc-a098-cb852bd134fa",
   "metadata": {},
   "outputs": [],
   "source": [
    "# https://github.com/aestrivex/bctpy/blob/1b40e281eda081060707e30b68106ac1ebf54130/bct/algorithms/distance.py#L107f\n",
    "\n",
    "# https://github.com/aestrivex/bctpy/blob/master/bct/algorithms/efficiency.py"
   ]
  },
  {
   "cell_type": "code",
   "execution_count": 45,
   "id": "02a6182c-520a-47e3-8872-876f76fa791d",
   "metadata": {},
   "outputs": [],
   "source": [
    "from bct.algorithms.efficiency import efficiency_wei"
   ]
  },
  {
   "cell_type": "code",
   "execution_count": 43,
   "id": "9bf343cb-d98d-4c7d-9d8b-3a4fe2a40b3a",
   "metadata": {},
   "outputs": [],
   "source": [
    "A = nx.to_numpy_array(G, weight='duration_weights')"
   ]
  },
  {
   "cell_type": "code",
   "execution_count": 44,
   "id": "712bbe84-b523-46ee-a409-f437daf8ee78",
   "metadata": {},
   "outputs": [],
   "source": [
    "An = A / A.max()"
   ]
  },
  {
   "cell_type": "code",
   "execution_count": 52,
   "id": "5f9a30b0-6c02-4d3b-b5cc-81989f80cc22",
   "metadata": {},
   "outputs": [],
   "source": [
    "orig_result = efficiency_wei(An, 'global')"
   ]
  },
  {
   "cell_type": "code",
   "execution_count": 49,
   "id": "9cb0a68f-6be6-4a42-a76b-a4878a1f60ac",
   "metadata": {},
   "outputs": [],
   "source": [
    "def do_efficiencies(filename):\n",
    "\n",
    "    try:\n",
    "        G = nx.read_gml(filename)\n",
    "        A = nx.to_numpy_array(G, weight='duration_weights')\n",
    "        An = A / A.max()\n",
    "        return efficiency_wei(An, 'global')\n",
    "    except Exception as e:\n",
    "        return None\n",
    "\n",
    "import multiprocessing as mp\n",
    "\n",
    "with mp.Pool() as pool:\n",
    "    results = pool.map(do_efficiencies, null_models, chunksize=1)"
   ]
  },
  {
   "cell_type": "code",
   "execution_count": 60,
   "id": "2d24d99d-d842-446d-9651-5293bdcd1760",
   "metadata": {},
   "outputs": [
    {
     "data": {
      "image/png": "[encoded data removed]",
      "text/plain": [
       "<Figure size 640x480 with 1 Axes>"
      ]
     },
     "metadata": {},
     "output_type": "display_data"
    }
   ],
   "source": [
    "import matplotlib.pyplot as plt\n",
    "import numpy as np\n",
    "\n",
    "np.random.seed(19680801)\n",
    "fruit_weights = [\n",
    "    results\n",
    "]\n",
    "labels = ['january']\n",
    "colors = ['peachpuff']\n",
    "\n",
    "fig, ax = plt.subplots()\n",
    "ax.set_ylabel('efficiency')\n",
    "\n",
    "bplot = ax.boxplot(fruit_weights,\n",
    "                   patch_artist=True,  # fill with color\n",
    "                   labels=labels)  # will be used to label x-ticks\n",
    "\n",
    "# fill with colors\n",
    "for patch, color in zip(bplot['boxes'], colors):\n",
    "    patch.set_facecolor(color)\n",
    "\n",
    "ax.plot(1, orig_result, 'bo')\n",
    "\n",
    "plt.show()"
   ]
  },
  {
   "cell_type": "markdown",
   "id": "009478e3-cee9-4b75-9c38-3c3425cff8d9",
   "metadata": {},
   "source": [
    "## motifs"
   ]
  },
  {
   "cell_type": "code",
   "execution_count": 9,
   "id": "68e17ba6-427b-440a-ba46-466e1d898e86",
   "metadata": {},
   "outputs": [],
   "source": [
    "# https://github.com/aestrivex/bctpy/blob/1b40e281eda081060707e30b68106ac1ebf54130/bct/algorithms/motifs.py#L405"
   ]
  },
  {
   "cell_type": "code",
   "execution_count": 91,
   "id": "c12da690-3ef8-4fef-8e16-a8476e02f12f",
   "metadata": {},
   "outputs": [],
   "source": [
    "from bct.algorithms.motifs import motif3struct_wei, make_motif34lib, find_motif34"
   ]
  },
  {
   "cell_type": "code",
   "execution_count": 74,
   "id": "a99ef6e1-6a7e-48a2-b041-16693a9da048",
   "metadata": {},
   "outputs": [],
   "source": [
    "make_motif34lib()"
   ]
  },
  {
   "cell_type": "code",
   "execution_count": 86,
   "id": "7ef254bb-1e3e-434d-aaa5-2da927e3d556",
   "metadata": {},
   "outputs": [],
   "source": [
    "A = nx.to_numpy_array(G, weight='tpd_weights')"
   ]
  },
  {
   "cell_type": "code",
   "execution_count": 88,
   "id": "20c60c08-50a6-4465-bf70-a9bab40bb9cf",
   "metadata": {},
   "outputs": [],
   "source": [
    "An = A / A.max()"
   ]
  },
  {
   "cell_type": "code",
   "execution_count": 89,
   "id": "75bf8eeb-811b-4b45-9a77-c91b73a03424",
   "metadata": {},
   "outputs": [],
   "source": [
    "I, Q, F = motif3struct_wei(An)"
   ]
  },
  {
   "cell_type": "code",
   "execution_count": 107,
   "id": "154d464b-9428-40bd-aca7-2a79653e94d6",
   "metadata": {},
   "outputs": [],
   "source": [
    "orig_result = I[0,0] # first node, first motif"
   ]
  },
  {
   "cell_type": "code",
   "execution_count": 108,
   "id": "ba724250-6a47-4d8d-98c8-71dbc979b6aa",
   "metadata": {},
   "outputs": [],
   "source": [
    "def do_motifs(filename):\n",
    "\n",
    "    try:\n",
    "        G = nx.read_gml(filename)\n",
    "        A = nx.to_numpy_array(G, weight='tpd_weights')\n",
    "        An = A / A.max()\n",
    "        I, Q, F = motif3struct_wei(An)\n",
    "        return I[0,0]\n",
    "    except Exception as e:\n",
    "        return None\n",
    "\n",
    "import multiprocessing as mp\n",
    "\n",
    "with mp.Pool() as pool:\n",
    "    results = pool.map(do_motifs, null_models, chunksize=1)"
   ]
  },
  {
   "cell_type": "code",
   "execution_count": 110,
   "id": "a5b0e366-7238-4dcd-aa5e-b7fa484c0947",
   "metadata": {},
   "outputs": [
    {
     "data": {
      "image/png": "[encoded data removed]",
      "text/plain": [
       "<Figure size 640x480 with 1 Axes>"
      ]
     },
     "metadata": {},
     "output_type": "display_data"
    }
   ],
   "source": [
    "import matplotlib.pyplot as plt\n",
    "import numpy as np\n",
    "\n",
    "np.random.seed(19680801)\n",
    "fruit_weights = [\n",
    "    results\n",
    "]\n",
    "labels = ['january']\n",
    "colors = ['peachpuff']\n",
    "\n",
    "fig, ax = plt.subplots()\n",
    "ax.set_ylabel('node1 - motif1')\n",
    "\n",
    "bplot = ax.boxplot(fruit_weights,\n",
    "                   patch_artist=True,  # fill with color\n",
    "                   labels=labels)  # will be used to label x-ticks\n",
    "\n",
    "# fill with colors\n",
    "for patch, color in zip(bplot['boxes'], colors):\n",
    "    patch.set_facecolor(color)\n",
    "\n",
    "ax.plot(1, orig_result, 'bo')\n",
    "\n",
    "plt.show()"
   ]
  },
  {
   "cell_type": "markdown",
   "id": "4c57e42f-62cd-47e1-83ad-7494e8090f6e",
   "metadata": {},
   "source": [
    "## strength and eigenvector centrality"
   ]
  },
  {
   "cell_type": "code",
   "execution_count": 10,
   "id": "eac528da-b30a-459d-afa6-610f3fc46ec0",
   "metadata": {},
   "outputs": [],
   "source": [
    "# https://networkx.org/documentation/stable/reference/algorithms/generated/networkx.algorithms.centrality.eigenvector_centrality.html"
   ]
  },
  {
   "cell_type": "code",
   "execution_count": 115,
   "id": "1312fd37-9df4-430a-929d-3478538cfec6",
   "metadata": {},
   "outputs": [],
   "source": [
    "orig_result_in = nx.eigenvector_centrality(G, weight='tpd_weights')['7000'] # in eigenvector\n",
    "orig_result_out = nx.eigenvector_centrality(G.reverse(), weight='tpd_weights')['7000'] # out eigenvector"
   ]
  },
  {
   "cell_type": "code",
   "execution_count": 116,
   "id": "1e294507-bfb7-4310-809f-041f1fb33d58",
   "metadata": {},
   "outputs": [],
   "source": [
    "def do_eig(filename):\n",
    "\n",
    "    try:\n",
    "        G = nx.read_gml(filename)\n",
    "        in_eig = nx.eigenvector_centrality(G, weight='tpd_weights')['7000'] # in eigenvector\n",
    "        out_eig = nx.eigenvector_centrality(G.reverse(), weight='tpd_weights')['7000'] # out eigenvector\n",
    "        return (in_eig, out_eig)\n",
    "    except Exception as e:\n",
    "        return None\n",
    "\n",
    "import multiprocessing as mp\n",
    "\n",
    "with mp.Pool() as pool:\n",
    "    results = pool.map(do_eig, null_models, chunksize=1)"
   ]
  },
  {
   "cell_type": "code",
   "execution_count": 118,
   "id": "728092e5-7431-466f-a729-b36c469ee367",
   "metadata": {},
   "outputs": [
    {
     "data": {
      "image/png": "[encoded data removed]",
      "text/plain": [
       "<Figure size 640x480 with 1 Axes>"
      ]
     },
     "metadata": {},
     "output_type": "display_data"
    }
   ],
   "source": [
    "import matplotlib.pyplot as plt\n",
    "import numpy as np\n",
    "\n",
    "np.random.seed(19680801)\n",
    "\n",
    "in_results, out_results = zip(*results)\n",
    "fruit_weights = [\n",
    "    in_results,\n",
    "    out_results\n",
    "]\n",
    "labels = ['january / in', 'january / out']\n",
    "colors = ['peachpuff', 'turquoise']\n",
    "\n",
    "fig, ax = plt.subplots()\n",
    "ax.set_ylabel('node1 - eig')\n",
    "\n",
    "bplot = ax.boxplot(fruit_weights,\n",
    "                   patch_artist=True,  # fill with color\n",
    "                   labels=labels)  # will be used to label x-ticks\n",
    "\n",
    "# fill with colors\n",
    "for patch, color in zip(bplot['boxes'], colors):\n",
    "    patch.set_facecolor(color)\n",
    "\n",
    "ax.plot(1, orig_result_in, 'bo')\n",
    "ax.plot(2, orig_result_out, 'bo')\n",
    "\n",
    "\n",
    "plt.show()"
   ]
  },
  {
   "cell_type": "markdown",
   "id": "ea0db039-d82b-4eea-b5f8-ea9972e5b733",
   "metadata": {},
   "source": [
    "## betweenness centrality "
   ]
  },
  {
   "cell_type": "code",
   "execution_count": null,
   "id": "d3330219-d27c-4b03-811d-a12dfef84798",
   "metadata": {},
   "outputs": [],
   "source": []
  }
 ],
 "metadata": {
  "kernelspec": {
   "display_name": "Python 3 (ipykernel)",
   "language": "python",
   "name": "python3"
  },
  "language_info": {
   "codemirror_mode": {
    "name": "ipython",
    "version": 3
   },
   "file_extension": ".py",
   "mimetype": "text/x-python",
   "name": "python",
   "nbconvert_exporter": "python",
   "pygments_lexer": "ipython3",
   "version": "3.10.12"
  }
 },
 "nbformat": 4,
 "nbformat_minor": 5
}
