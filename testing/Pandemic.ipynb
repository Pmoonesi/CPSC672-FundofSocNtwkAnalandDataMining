{
 "cells": [
  {
   "cell_type": "code",
   "execution_count": 2,
   "id": "4492eb56-2011-479f-9b20-c4fbe141243f",
   "metadata": {},
   "outputs": [],
   "source": [
    "import numpy as np\n",
    "import glob\n",
    "import networkx as nx"
   ]
  },
  {
   "cell_type": "code",
   "execution_count": 51,
   "id": "7e67d73b-4908-4356-9e71-5894a6af2db9",
   "metadata": {},
   "outputs": [],
   "source": [
    "# November 23, 2020, June 2, 2021\n",
    "from datetime import date\n",
    "# from datetime.date import datetime\n",
    "\n",
    "pandemic_start = date(2020, 11, 23)\n",
    "pandemic_end = date(2021, 6, 2)"
   ]
  },
  {
   "cell_type": "code",
   "execution_count": 52,
   "id": "a829a902-0940-41a1-8ab8-4986b34c85d6",
   "metadata": {},
   "outputs": [],
   "source": [
    "import re\n",
    "\n",
    "pattern = re.compile('network-(\\d{4})-(\\d+).gml')\n",
    "\n",
    "files = glob.glob('processed/years/**/months/*.gml',recursive=True)\n",
    "\n",
    "def is_lockdown(filename):\n",
    "\n",
    "    year, month = int(pattern.search(filename).group(1)), int(pattern.search(filename).group(2))\n",
    "\n",
    "    d = date(year, month, 1)\n",
    "\n",
    "    return d > pandemic_start and d < pandemic_end"
   ]
  },
  {
   "cell_type": "code",
   "execution_count": 53,
   "id": "6c5ee5b8-1cbe-4208-9006-0a19e9d6df8e",
   "metadata": {},
   "outputs": [],
   "source": [
    "non_pandemic_files = list(filter(lambda x: not is_lockdown(x), files))\n",
    "pandemic_files = list(set(files) - set(non_pandemic_files))"
   ]
  },
  {
   "cell_type": "code",
   "execution_count": 91,
   "id": "c8ad4ca1-4c74-4823-a493-bba6064006c2",
   "metadata": {},
   "outputs": [
    {
     "name": "stdout",
     "output_type": "stream",
     "text": [
      "month: 1\n",
      "pandemic density: [0.10810883205764375]\n",
      "non pandemic_filespandemic density: [0.21281457464875714, 0.15605093269608017, 0.30814254635864496, 0.17332201269103584, 0.07967873105487784, 0.16773986558746384, 0.15653253297761968]\n",
      "month: 2\n",
      "pandemic density: [0.0839036462629929]\n",
      "non pandemic_filespandemic density: [0.24251968503937008, 0.15174643783534095, 0.3218429503781208, 0.13416748592367503, 0.085524773824591, 0.16926523398363183, 0.13174865871804137]\n",
      "month: 3\n",
      "pandemic density: [0.1562033178709018]\n",
      "non pandemic_filespandemic density: [0.32440944881889766, 0.17000392338695294, 0.3326944991194447, 0.22092217484008528, 0.14838304531944554, 0.1960464252344339, 0.14930265801267192]\n",
      "month: 4\n",
      "pandemic density: [0.18289584548577353]\n",
      "non pandemic_filespandemic density: [0.3601513046163347, 0.2508014202748548, 0.4099761732104009, 0.3033329800763035, 0.19943646597753756, 0.14606950276367484, 0.17800753248046958]\n",
      "month: 5\n",
      "pandemic density: [0.24046715976524505]\n",
      "non pandemic_filespandemic density: [0.5323297823066234, 0.31264925938485294, 0.4637159432300839, 0.37637174512317173, 0.28582824777631527, 0.2560930305861692, 0.24221204163682594]\n",
      "month: 6\n",
      "pandemic density: [0.25760256659537234]\n",
      "non pandemic_filespandemic density: [0.49272746298330977, 0.3285471370396859, 0.5101781829483062, 0.4275436881548936, 0.3112031118643163, 0.26456243884540115, 0.25168424052436594]\n",
      "month: 7\n",
      "pandemic density: []\n",
      "non pandemic_filespandemic density: [0.4495321131173221, 0.34084232580968915, 0.6418756088806851, 0.2648713461663102, 0.3602134350327847, 0.3223578370760374, 0.28251919000973824, 0.2633835016193561]\n",
      "month: 8\n",
      "pandemic density: []\n",
      "non pandemic_filespandemic density: [0.42114871376677293, 0.34463345127945905, 0.5077196232823838, 0.27491787816697566, 0.37692290455222793, 0.3259872377729302, 0.2886179142153651, 0.2572039401845956]\n",
      "month: 9\n",
      "pandemic density: []\n",
      "non pandemic_filespandemic density: [0.40940337928289733, 0.3395274445656125, 0.5380974264705882, 0.2672911178326341, 0.34867895216759914, 0.31000722643764417, 0.275551970964815, 0.2564472439014111]\n",
      "month: 10\n",
      "pandemic density: []\n",
      "non pandemic_filespandemic density: [0.3308070426311556, 0.2966666666666667, 0.48746936274509806, 0.23903335199449174, 0.29791878746748107, 0.2774083493148781, 0.22499347088012536]\n",
      "month: 11\n",
      "pandemic density: []\n",
      "non pandemic_filespandemic density: [0.24459737241934043, 0.23064694548837755, 0.39802377643970976, 0.19349005424954793, 0.21166235308617076, 0.22436775793859925, 0.18909335636940755]\n",
      "month: 12\n",
      "pandemic density: [0.11886000613832584]\n",
      "non pandemic_filespandemic density: [0.2196532308517294, 0.18538452556449142, 0.30787401574803147, 0.14560770156438027, 0.1550805120656586, 0.16364282414810077]\n"
     ]
    }
   ],
   "source": [
    "from collections import Counter\n",
    "\n",
    "for month in range(1, 13):\n",
    "\n",
    "    print(f\"month: {month}\")\n",
    "\n",
    "    pattern = re.compile(fr\".*network-(\\d{{4}})-{month}\\.gml\")\n",
    "    \n",
    "    pf = list(filter(lambda x: pattern.search(x), pandemic_files))\n",
    "    npf = list(filter(lambda x: pattern.search(x), non_pandemic_files))\n",
    "\n",
    "    pandemic_density = []\n",
    "    for filename in pf:    \n",
    "        G = nx.read_gml(filename)\n",
    "        N, E = G.number_of_nodes(), G.number_of_edges()\n",
    "        density = E / (N * (N - 1))\n",
    "        pandemic_density.append(density)\n",
    "\n",
    "    \n",
    "    non_pandemic_density = []\n",
    "    for filename in npf:    \n",
    "        G = nx.read_gml(filename)\n",
    "        N, E = G.number_of_nodes(), G.number_of_edges()\n",
    "        density = E / (N * (N - 1))\n",
    "        non_pandemic_density.append(density)\n",
    "\n",
    "\n",
    "    print(f\"pandemic density: {pandemic_density}\")\n",
    "    print(f\"non pandemic_filespandemic density: {non_pandemic_density}\")"
   ]
  }
 ],
 "metadata": {
  "kernelspec": {
   "display_name": "Python 3 (ipykernel)",
   "language": "python",
   "name": "python3"
  },
  "language_info": {
   "codemirror_mode": {
    "name": "ipython",
    "version": 3
   },
   "file_extension": ".py",
   "mimetype": "text/x-python",
   "name": "python",
   "nbconvert_exporter": "python",
   "pygments_lexer": "ipython3",
   "version": "3.10.12"
  }
 },
 "nbformat": 4,
 "nbformat_minor": 5
}
