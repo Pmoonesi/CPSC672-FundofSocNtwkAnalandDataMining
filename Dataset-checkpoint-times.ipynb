{
 "cells": [
  {
   "cell_type": "code",
   "execution_count": 1,
   "id": "de176ddc-1736-4555-abcf-a8589e71cd71",
   "metadata": {},
   "outputs": [],
   "source": [
    "import pandas as pd\n",
    "import swifter\n",
    "import glob\n",
    "\n",
    "from pandarallel import pandarallel"
   ]
  },
  {
   "cell_type": "code",
   "execution_count": 2,
   "id": "e6dd30db-0056-47d5-8a95-5bb462ef0d8e",
   "metadata": {},
   "outputs": [
    {
     "name": "stdout",
     "output_type": "stream",
     "text": [
      "INFO: Pandarallel will run on 6 workers.\n",
      "INFO: Pandarallel will use Memory file system to transfer data between the main process and workers.\n"
     ]
    }
   ],
   "source": [
    "pandarallel.initialize(progress_bar=True)"
   ]
  },
  {
   "cell_type": "code",
   "execution_count": 3,
   "id": "777ac039-5e3a-486f-b29f-b5aa2cefc1e9",
   "metadata": {},
   "outputs": [],
   "source": [
    "files = sorted(glob.glob('data/**/*.csv', recursive=True))"
   ]
  },
  {
   "cell_type": "code",
   "execution_count": 4,
   "id": "d1bd9a3a-2bee-41d5-9b52-0b79c0c5055a",
   "metadata": {},
   "outputs": [
    {
     "name": "stdout",
     "output_type": "stream",
     "text": [
      "68\n"
     ]
    }
   ],
   "source": [
    "print(len(files)) # 2017 (3), 2018 (4), 2019 (4), 2020 (12), 2021 (12), 2022 (12), 2023 (12), 2024 (9)\n",
    "\n",
    "years_files = [3, 4, 4, 12, 12, 12, 12, 9]"
   ]
  },
  {
   "cell_type": "code",
   "execution_count": 5,
   "id": "23163957-95bd-4c9f-9b5b-b2a6a86288e3",
   "metadata": {},
   "outputs": [],
   "source": [
    "columns_mapping = {'Bike Id': 'Bike Id',\n",
    " 'End Station Id': 'End Station Id',\n",
    " 'End Station Name': 'End Station Name',\n",
    " 'End Time': 'End Time',\n",
    " 'Model': 'Model',\n",
    " 'Start Station Id': 'Start Station Id',\n",
    " 'Start Station Name': 'Start Station Name',\n",
    " 'Start Time': 'Start Time',\n",
    " 'Trip  Duration': 'Trip Duration',\n",
    " 'Trip Id': 'Trip Id',\n",
    " 'User Type': 'User Type',\n",
    " 'from_station_id': 'Start Station Id',\n",
    " 'from_station_name': 'Start Station Name',\n",
    " 'to_station_id': 'End Station Id',\n",
    " 'to_station_name': 'End Station Name',\n",
    " 'trip_duration_seconds': 'Trip Duration',\n",
    " 'trip_id': 'Trip Id',\n",
    " 'trip_start_time': 'Start Time',\n",
    " 'trip_stop_time': 'End Time',\n",
    " 'user_type': 'User Type'}"
   ]
  },
  {
   "cell_type": "code",
   "execution_count": 6,
   "id": "e1129de2-0415-4412-8f7f-712bfd35a665",
   "metadata": {},
   "outputs": [],
   "source": [
    "columns_types = {'Trip Id': 'str',\n",
    "                 'Start Time': 'datetime64[ns]', \n",
    "                 'End Time': 'datetime64[ns]', \n",
    "                 'Trip Duration': 'int32', \n",
    "                 'Start Station Id': 'int32', \n",
    "                 'Start Station Name': 'str', \n",
    "                 'End Station Id': 'int32', \n",
    "                 'End Station Name': 'str', \n",
    "                 'User Type': 'str'}\n",
    "\n",
    "incomplete_columns_types = {'Trip Id': 'str',\n",
    "                 'Start Time': 'datetime64[ns]', \n",
    "                 'End Time': 'datetime64[ns]', \n",
    "                 'Trip Duration': 'int32', \n",
    "                 'Start Station Name': 'str', \n",
    "                 'End Station Name': 'str', \n",
    "                 'User Type': 'str'}"
   ]
  },
  {
   "cell_type": "code",
   "execution_count": 7,
   "id": "29f99dd0-08bb-4a33-ae9e-8950ebef8d4a",
   "metadata": {},
   "outputs": [],
   "source": [
    "min_deg_in = 1\n",
    "max_deg_in = 520\n",
    "\n",
    "min_deg_out = 1\n",
    "max_deg_out = 493"
   ]
  },
  {
   "cell_type": "code",
   "execution_count": 16,
   "id": "30c59606-4e2e-455b-935a-9d740430470e",
   "metadata": {},
   "outputs": [
    {
     "data": {
      "application/vnd.jupyter.widget-view+json": {
       "model_id": "2324310237304ad38899f667299893d2",
       "version_major": 2,
       "version_minor": 0
      },
      "text/plain": [
       "  0%|          | 0/4 [00:00<?, ?it/s]"
      ]
     },
     "metadata": {},
     "output_type": "display_data"
    }
   ],
   "source": [
    "import pandas as pd\n",
    "import os\n",
    "from tqdm.notebook import tqdm\n",
    "\n",
    "dfs = []\n",
    "\n",
    "for file in tqdm(files[3:7]):\n",
    "\n",
    "    filename = file.split(os.sep)[-1]\n",
    "    \n",
    "    try:\n",
    "        df = pd.read_csv(file, encoding='utf-8')\n",
    "    except Exception as e:\n",
    "        df = pd.read_csv(file, encoding='cp1252')\n",
    "        \n",
    "    df_cleaned = df.dropna()  # Remove null values\n",
    "    df_renamed = df_cleaned.rename(columns_mapping, axis=1) # Rename columns if necessary\n",
    "    df_corrected = df_renamed.astype(columns_types)\n",
    "\n",
    "    final_df = func1(df_corrected)\n",
    "\n",
    "    dfs.append(final_df)\n",
    "\n",
    "\n",
    "    # G, _ = func2(final_df)\n",
    "    \n",
    "    # nx.write_gml(G, f\"networks/{filename.split('.')[0]}.gml\")\n",
    "    \n",
    "    # degrees_in = dict(G.in_degree()).values()\n",
    "    # degrees_out = dict(G.out_degree()).values()\n",
    "\n",
    "    # min_deg_in = min(min(degrees_in), min_deg_in)\n",
    "    # max_deg_in = max(max(degrees_in), max_deg_in)\n",
    "    \n",
    "    # min_deg_out = min(min(degrees_out), min_deg_out)\n",
    "    # max_deg_out = max(max(degrees_out), max_deg_out)\n",
    "    \n",
    "    # func3(G, filename, deg_ext=(min_deg_in, max_deg_in, min_deg_out, max_deg_out), bins=14)\n",
    "    # func3(G, filename)\n"
   ]
  },
  {
   "cell_type": "code",
   "execution_count": 17,
   "id": "2f18a8d8-159c-4d23-8816-59411fff9401",
   "metadata": {},
   "outputs": [],
   "source": [
    "total_2018_df = pd.concat(dfs)"
   ]
  },
  {
   "cell_type": "code",
   "execution_count": 19,
   "id": "2fffa61a-ff9a-43a1-a03f-4c42af9d1f8c",
   "metadata": {},
   "outputs": [
    {
     "data": {
      "application/vnd.jupyter.widget-view+json": {
       "model_id": "3673a70ee1bd42ed97c7fbe9d5e57a77",
       "version_major": 2,
       "version_minor": 0
      },
      "text/plain": [
       "  0%|          | 0/12 [00:00<?, ?it/s]"
      ]
     },
     "metadata": {},
     "output_type": "display_data"
    }
   ],
   "source": [
    "from datetime import date\n",
    "from dateutil.relativedelta import * \n",
    "\n",
    "end = date.fromisoformat('2018-01-01')\n",
    "\n",
    "for month in tqdm(range(1,13)):\n",
    "    \n",
    "    begin = end\n",
    "    end = begin + relativedelta(months=+1)\n",
    "\n",
    "    month_df = total_2018_df[(total_2018_df['Start Time'] > pd.to_datetime(begin)) & (total_2018_df['End Time'] < pd.to_datetime(end))]\n",
    "\n",
    "    month_df.to_csv(f'processed/2018/month-{month}.csv')\n",
    "\n",
    "    G, _ = func2(final_df)\n",
    "    \n",
    "    nx.write_gml(G, f\"processed/2018/month-{month}.gml\")\n"
   ]
  },
  {
   "cell_type": "code",
   "execution_count": 12,
   "id": "f69295c5-5781-473e-9426-5338f6bc3729",
   "metadata": {},
   "outputs": [],
   "source": [
    "month_df = pd.read_csv('processed/2018/month-1.csv')"
   ]
  },
  {
   "cell_type": "code",
   "execution_count": 13,
   "id": "dd666b04-b07c-43cd-9cb3-741d77aa77c7",
   "metadata": {},
   "outputs": [],
   "source": [
    "G, _ = func2(month_df)"
   ]
  },
  {
   "cell_type": "code",
   "execution_count": 15,
   "id": "247d99a3-bae2-4b2b-9911-4407c1f92218",
   "metadata": {},
   "outputs": [
    {
     "data": {
      "image/png": "[encoded data removed]",
      "text/plain": [
       "<Figure size 1200x900 with 4 Axes>"
      ]
     },
     "metadata": {},
     "output_type": "display_data"
    }
   ],
   "source": [
    "func3(G, name=\"2023\")"
   ]
  },
  {
   "cell_type": "markdown",
   "id": "0046eb75-0845-4c63-8403-28928f6bd82e",
   "metadata": {},
   "source": [
    "#### one function to do it all"
   ]
  },
  {
   "cell_type": "code",
   "execution_count": 9,
   "id": "6200342f-d49f-450d-9a25-f5e20f296d59",
   "metadata": {},
   "outputs": [],
   "source": [
    "from threshold.similarity import compute_avg_similarity\n",
    "import random\n",
    "\n",
    "def get_tempdf(df):\n",
    "    temp1_df = df[[\"Start Station Id\", \"Start Station Name\"]].rename({'Start Station Id':'Id', 'Start Station Name': 'Name'}, axis=1)\n",
    "    temp2_df = df[[\"End Station Id\", \"End Station Name\"]].rename({'End Station Id':'Id', 'End Station Name': 'Name'}, axis=1)\n",
    "    temp_df = pd.concat([temp1_df, temp2_df]).drop_duplicates()\n",
    "    return temp_df\n",
    "\n",
    "def change_membership(membership):\n",
    "    if membership == 'Annual Member':\n",
    "        return 'Member'\n",
    "    elif membership == 'Casual Member':\n",
    "        return 'Casual'\n",
    "    else:\n",
    "        return membership\n",
    "        \n",
    "def func1(df):\n",
    "    temp_df = get_tempdf(df)\n",
    "    temp_temp_df = (temp_df.groupby(\"Id\").count() > 1).reset_index()\n",
    "\n",
    "\n",
    "    threshold = 0.33\n",
    "    changes = []\n",
    "    \n",
    "    # we are trying to find the mapping and after we've found one, we replace the duplicates\n",
    "    for id in temp_temp_df[temp_temp_df['Name'] == True].Id.to_numpy():\n",
    "        duplicates = temp_df[temp_df['Id'] == id]\n",
    "        size = len(duplicates)\n",
    "    \n",
    "        similarity = compute_avg_similarity(duplicates.Name.to_numpy())\n",
    "    \n",
    "        if similarity > threshold:\n",
    "            choice = size - 1\n",
    "        else:\n",
    "            choice = size\n",
    "        \n",
    "        # if any of the choices -> add a tuple for every other choice\n",
    "        # else do nothing\n",
    "        if choice < size:\n",
    "            \n",
    "            choice_name = duplicates.iloc[choice, 1]\n",
    "    \n",
    "            for i in range(size):\n",
    "                if i == choice:\n",
    "                    continue\n",
    "                changes.append((duplicates.iloc[i, 1], choice_name))\n",
    "\n",
    "\n",
    "    for change in changes:\n",
    "        \n",
    "        df.loc[df['Start Station Name'] == change[0], 'Start Station Name'] = change[1]\n",
    "    \n",
    "        df.loc[df['End Station Name'] == change[0], 'End Station Name'] = change[1]\n",
    "\n",
    "    temp_df = get_tempdf(df)\n",
    "    new_changes = []\n",
    "\n",
    "    for id in [7117, 7130, 7291, 7381]:\n",
    "        duplicates = temp_df[temp_df['Id'] == id]\n",
    "        size = len(duplicates)\n",
    "\n",
    "        if size == 0:\n",
    "            continue\n",
    "    \n",
    "        choice = size - 1\n",
    "            \n",
    "        choice_name = duplicates.iloc[choice, 1]\n",
    "    \n",
    "        for i in range(size):\n",
    "            if i == choice:\n",
    "                continue\n",
    "            new_changes.append((duplicates.iloc[i, 1], choice_name))\n",
    "\n",
    "\n",
    "    comb_to_change = [((7001, \"Lower Jarvis St / The Esplanade\"), 7686)]\n",
    "\n",
    "    for change in comb_to_change:\n",
    "    \n",
    "        df.loc[(df['Start Station Id'] == change[0][0]) & (df['Start Station Name'] == change[0][1]), 'Start Station Id'] = change[1]\n",
    "    \n",
    "        df.loc[(df['End Station Id'] == change[0][0]) & (df['End Station Name'] == change[0][1]), 'End Station Id'] = change[1]\n",
    "\n",
    "    id_to_change = [(7720, 7372), (7685, 7322), (7712, 7072), (7680, 7510), (7792, 7098), (7470, 7398)]\n",
    "    \n",
    "    for change in id_to_change:\n",
    "    \n",
    "        df.loc[df['Start Station Id'] == change[0], 'Start Station Id'] = change[1]\n",
    "    \n",
    "        df.loc[df['End Station Id'] == change[0], 'End Station Id'] = change[1]\n",
    "\n",
    "    available_ids = list(set(range(7000,8000)) - set(temp_df['Id'].unique()))\n",
    "\n",
    "    new_id_changes = []\n",
    "    \n",
    "    temp_temp_df = (temp_df.groupby(\"Id\").count() > 1).reset_index()\n",
    "    \n",
    "    for id in temp_temp_df[temp_temp_df['Name'] == True].Id.to_numpy():\n",
    "    \n",
    "        # choose one of the options to change id for\n",
    "        duplicates = temp_df[temp_df['Id'] == id]\n",
    "        size = len(duplicates)\n",
    "    \n",
    "        choice = size - 1 \n",
    "        choice_name = duplicates.iloc[choice, 1]\n",
    "    \n",
    "        new_id = random.choice(available_ids)\n",
    "        available_ids.remove(new_id)\n",
    "    \n",
    "        new_id_changes.append(((id, choice_name), new_id))\n",
    "\n",
    "    for id_change in new_id_changes:\n",
    "    \n",
    "        df.loc[(df['Start Station Id'] == id_change[0][0]) & (df['Start Station Name'] == id_change[0][1]), 'Start Station Id'] = id_change[1]\n",
    "    \n",
    "        df.loc[(df['End Station Id'] == id_change[0][0]) & (df['End Station Name'] == id_change[0][1]), 'End Station Id'] = id_change[1]\n",
    "\n",
    "    df['User Type'] = df['User Type'].apply(change_membership)\n",
    "\n",
    "    df = df[df['Trip Duration'] > 29]\n",
    "\n",
    "    df = df[df['Start Station Id'] != df['End Station Id']]\n",
    "\n",
    "    df = df[df['Start Time'] < df['End Time']]\n",
    "\n",
    "    return df"
   ]
  },
  {
   "cell_type": "code",
   "execution_count": 10,
   "id": "4310efd5-9fd5-4378-834e-fc2d18ccca8e",
   "metadata": {},
   "outputs": [],
   "source": [
    "import numpy as np\n",
    "from sklearn.preprocessing import MinMaxScaler\n",
    "import networkx as nx\n",
    "\n",
    "def func2(df):\n",
    "    \n",
    "    whole_trips_df = df[['Start Time', 'End Time', 'Trip Id', 'Trip Duration', 'Start Station Id', 'End Station Id']]\n",
    "    whole_trips_df = whole_trips_df.astype({'Start Time': 'datetime64[ns]', 'End Time': 'datetime64[ns]'})\n",
    "\n",
    "    temp_df = whole_trips_df[['Start Time', 'End Time', 'Start Station Id', 'End Station Id', 'Trip Id']].groupby(['Start Station Id', 'End Station Id']).agg({'Trip Id': 'count', 'Start Time': 'min', 'End Time': 'max'}).reset_index().rename({'Trip Id': 'Trip Count'}, axis=1)\n",
    "    temp_df['Link Duration'] = temp_df.apply(lambda x: (x['End Time'] - x['Start Time']).ceil('d'), axis=1).dt.days #.astype('timedelta64[D]')\n",
    "    temp_df['Avg Duration'] = whole_trips_df[['Start Station Id', 'End Station Id', 'Trip Duration']].groupby(['Start Station Id', 'End Station Id']).mean().reset_index()['Trip Duration']\n",
    "    temp_df['duration_weights'] = temp_df['Avg Duration'].apply(lambda x: 1 / x)\n",
    "\n",
    "    temp_df['tpd_weights'] = temp_df.apply(lambda x: x['Trip Count'] / x['Link Duration'], axis=1)\n",
    "    temp_df = temp_df.rename({'Trip Count': 'trip_count_weights'}, axis=1).drop(['Start Time', 'End Time', 'Link Duration', 'Avg Duration'], axis=1)\n",
    "\n",
    "    nnp = np.percentile(temp_df[['trip_count_weights', 'duration_weights', 'tpd_weights']], 99, axis=0)\n",
    "    temp_df[['trip_count_weights', 'duration_weights', 'tpd_weights']] = np.clip(temp_df[['trip_count_weights', 'duration_weights', 'tpd_weights']], None, nnp)\n",
    "\n",
    "    min_max_scaler = MinMaxScaler((1, 10))\n",
    "    x_scaled = min_max_scaler.fit_transform(temp_df[['trip_count_weights', 'duration_weights', 'tpd_weights']])\n",
    "    temp_df[['trip_count_weights', 'duration_weights', 'tpd_weights']] = x_scaled\n",
    "\n",
    "    G = nx.from_pandas_edgelist(temp_df, source=\"Start Station Id\", target=\"End Station Id\", edge_attr=['trip_count_weights', 'duration_weights', 'tpd_weights'], create_using=nx.DiGraph)\n",
    "\n",
    "    node_labels = {d['Id']: d['Name'] for d in get_tempdf(df)[['Id', 'Name']].to_dict('records')}\n",
    "    nx.set_node_attributes(G, node_labels, name='Name')\n",
    "\n",
    "    return G, temp_df"
   ]
  },
  {
   "cell_type": "code",
   "execution_count": 14,
   "id": "bbbc682f-c1b2-40ab-82bb-dcf9f118c991",
   "metadata": {},
   "outputs": [],
   "source": [
    "import matplotlib.pyplot as plt\n",
    "\n",
    "def func3(G, name, deg_ext=None, bins=9):\n",
    "\n",
    "    # print(f\"{name}:\")\n",
    "    nodes, edges = G.number_of_nodes(), G.number_of_edges()\n",
    "\n",
    "    in_degrees = [deg for (id, deg) in G.in_degree() if deg > 0]\n",
    "    out_degrees = [deg for (id, deg) in G.out_degree() if deg > 0]\n",
    "\n",
    "    if deg_ext:\n",
    "        in_kmin, in_kmax, out_kmin, out_kmax = deg_ext\n",
    "    else:\n",
    "        in_kmin = min(in_degrees)\n",
    "        in_kmax = max(in_degrees)\n",
    "        out_kmin = min(out_degrees)\n",
    "        out_kmax = max(out_degrees)\n",
    "\n",
    "    # Get 10 logarithmically spaced bins between kmin and kmax\n",
    "    # in_bin_edges_log = np.logspace(np.log10(in_kmin + 1e-1), np.log10(in_kmax), num=bins + 1)\n",
    "    # out_bin_edges_log = np.logspace(np.log10(out_kmin + 1e-1), np.log10(out_kmax), num=bins + 1)\n",
    "    in_bin_edges_log = np.logspace(np.log10(in_kmin), np.log10(in_kmax), num=bins + 1)\n",
    "    out_bin_edges_log = np.logspace(np.log10(out_kmin), np.log10(out_kmax), num=bins + 1)\n",
    "\n",
    "    # histogram the data into these bins\n",
    "    in_density_log, _ = np.histogram(in_degrees, bins=in_bin_edges_log, density=True)    \n",
    "    out_density_log, _ = np.histogram(out_degrees, bins=out_bin_edges_log, density=True)\n",
    "    \n",
    "    # \"x\" should be midpoint (IN LOG SPACE) of each bin\n",
    "    in_log_be_log = np.log10(in_bin_edges_log)\n",
    "    in_x_log = 10**((in_log_be_log[1:] + in_log_be_log[:-1])/2)\n",
    "    \n",
    "    out_log_be_log = np.log10(out_bin_edges_log)\n",
    "    out_x_log = 10**((out_log_be_log[1:] + out_log_be_log[:-1])/2)\n",
    "\n",
    "    # Get 20 logarithmically spaced bins between kmin and kmax\n",
    "    in_bin_edges = np.linspace(in_kmin, in_kmax, num=bins + 1)\n",
    "    out_bin_edges = np.linspace(out_kmin, out_kmax, num=bins + 1)\n",
    "    \n",
    "    # histogram the data into these bins\n",
    "    in_density, _ = np.histogram(in_degrees, bins=in_bin_edges, density=True)\n",
    "    out_density, _ = np.histogram(out_degrees, bins=out_bin_edges, density=True)\n",
    "\n",
    "    # \"x\" should be midpoint (IN LOG SPACE) of each bin\n",
    "    in_log_be = np.log10(in_bin_edges)\n",
    "    in_x = 10**((in_log_be[1:] + in_log_be[:-1])/2)\n",
    "    \n",
    "    out_log_be = np.log10(out_bin_edges)\n",
    "    out_x = 10**((out_log_be[1:] + out_log_be[:-1])/2)\n",
    "\n",
    "    fig, axis = plt.subplots(2, 2, figsize=(12,9))\n",
    "\n",
    "    fig.suptitle(f\"{name}: nodes = {nodes}, edges = {edges}\")\n",
    "\n",
    "    axis = axis.ravel()\n",
    "\n",
    "    axis[0].loglog(in_x_log, in_density_log, marker='o', linestyle='none')\n",
    "    axis[0].set_xlabel(r\"in degree $k$ - loglog\", fontsize=16)\n",
    "    axis[0].set_ylabel(r\"$P(k)$\", fontsize=16)\n",
    "    \n",
    "    axis[1].loglog(out_x_log, out_density_log, marker='o', linestyle='none')\n",
    "    axis[1].set_xlabel(r\"out degree $k$ - loglog\", fontsize=16)\n",
    "    axis[1].set_ylabel(r\"$P(k)$\", fontsize=16)\n",
    "    \n",
    "    axis[2].plot(in_x, in_density, marker='o', linestyle='none')\n",
    "    axis[2].set_xlabel(r\"in degree $k$\", fontsize=16)\n",
    "    axis[2].set_ylabel(r\"$P(k)$\", fontsize=16)\n",
    "    \n",
    "    axis[3].plot(out_x, out_density, marker='o', linestyle='none')\n",
    "    axis[3].set_xlabel(r\"out degree $k$\", fontsize=16)\n",
    "    axis[3].set_ylabel(r\"$P(k)$\", fontsize=16)\n",
    "    \n",
    "    # save the plot\n",
    "    plt.tight_layout()\n",
    "    plt.show()\n",
    "    # fig.savefig(f\"figs3/{name.split('.')[0]}.png\")\n",
    "    # plt.close()\n"
   ]
  }
 ],
 "metadata": {
  "kernelspec": {
   "display_name": "Python 3 (ipykernel)",
   "language": "python",
   "name": "python3"
  },
  "language_info": {
   "codemirror_mode": {
    "name": "ipython",
    "version": 3
   },
   "file_extension": ".py",
   "mimetype": "text/x-python",
   "name": "python",
   "nbconvert_exporter": "python",
   "pygments_lexer": "ipython3",
   "version": "3.10.12"
  }
 },
 "nbformat": 4,
 "nbformat_minor": 5
}
