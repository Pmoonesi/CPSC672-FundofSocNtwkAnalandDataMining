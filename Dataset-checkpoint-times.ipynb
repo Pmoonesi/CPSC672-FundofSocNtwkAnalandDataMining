{
 "cells": [
  {
   "cell_type": "code",
   "execution_count": 29,
   "id": "de176ddc-1736-4555-abcf-a8589e71cd71",
   "metadata": {},
   "outputs": [],
   "source": [
    "import pandas as pd\n",
    "import swifter\n",
    "import glob\n",
    "\n",
    "from pandarallel import pandarallel"
   ]
  },
  {
   "cell_type": "code",
   "execution_count": 30,
   "id": "e6dd30db-0056-47d5-8a95-5bb462ef0d8e",
   "metadata": {},
   "outputs": [
    {
     "name": "stdout",
     "output_type": "stream",
     "text": [
      "INFO: Pandarallel will run on 6 workers.\n",
      "INFO: Pandarallel will use Memory file system to transfer data between the main process and workers.\n"
     ]
    }
   ],
   "source": [
    "pandarallel.initialize(progress_bar=True)"
   ]
  },
  {
   "cell_type": "code",
   "execution_count": null,
   "id": "777ac039-5e3a-486f-b29f-b5aa2cefc1e9",
   "metadata": {},
   "outputs": [],
   "source": [
    "files = sorted(glob.glob('data/**/*.csv', recursive=True))"
   ]
  },
  {
   "cell_type": "code",
   "execution_count": 3,
   "id": "d1bd9a3a-2bee-41d5-9b52-0b79c0c5055a",
   "metadata": {},
   "outputs": [
    {
     "name": "stdout",
     "output_type": "stream",
     "text": [
      "68\n"
     ]
    }
   ],
   "source": [
    "print(len(files)) # 2017 (3), 2018 (4), 2019 (4), 2020 (12), 2021 (12), 2022 (12), 2023 (12), 2024 (9)\n",
    "\n",
    "years_files = [3, 4, 4, 12, 12, 12, 12, 9]"
   ]
  },
  {
   "cell_type": "code",
   "execution_count": 4,
   "id": "23163957-95bd-4c9f-9b5b-b2a6a86288e3",
   "metadata": {},
   "outputs": [],
   "source": [
    "columns_mapping = {'Bike Id': 'Bike Id',\n",
    " 'End Station Id': 'End Station Id',\n",
    " 'End Station Name': 'End Station Name',\n",
    " 'End Time': 'End Time',\n",
    " 'Model': 'Model',\n",
    " 'Start Station Id': 'Start Station Id',\n",
    " 'Start Station Name': 'Start Station Name',\n",
    " 'Start Time': 'Start Time',\n",
    " 'Trip  Duration': 'Trip Duration',\n",
    " 'Trip Id': 'Trip Id',\n",
    " 'User Type': 'User Type',\n",
    " 'from_station_id': 'Start Station Id',\n",
    " 'from_station_name': 'Start Station Name',\n",
    " 'to_station_id': 'End Station Id',\n",
    " 'to_station_name': 'End Station Name',\n",
    " 'trip_duration_seconds': 'Trip Duration',\n",
    " 'trip_id': 'Trip Id',\n",
    " 'trip_start_time': 'Start Time',\n",
    " 'trip_stop_time': 'End Time',\n",
    " 'user_type': 'User Type'}"
   ]
  },
  {
   "cell_type": "code",
   "execution_count": 5,
   "id": "e1129de2-0415-4412-8f7f-712bfd35a665",
   "metadata": {},
   "outputs": [],
   "source": [
    "columns_types = {'Trip Id': 'str',\n",
    "                 'Start Time': 'datetime64[ns]', \n",
    "                 'End Time': 'datetime64[ns]', \n",
    "                 'Trip Duration': 'int32', \n",
    "                 'Start Station Id': 'int32', \n",
    "                 'Start Station Name': 'str', \n",
    "                 'End Station Id': 'int32', \n",
    "                 'End Station Name': 'str', \n",
    "                 'User Type': 'str'}\n",
    "\n",
    "incomplete_columns_types = {'Trip Id': 'str',\n",
    "                 'Start Time': 'datetime64[ns]', \n",
    "                 'End Time': 'datetime64[ns]', \n",
    "                 'Trip Duration': 'int32', \n",
    "                 'Start Station Name': 'str', \n",
    "                 'End Station Name': 'str', \n",
    "                 'User Type': 'str'}"
   ]
  },
  {
   "cell_type": "code",
   "execution_count": 6,
   "id": "29f99dd0-08bb-4a33-ae9e-8950ebef8d4a",
   "metadata": {},
   "outputs": [],
   "source": [
    "min_deg_in = 1\n",
    "max_deg_in = 520\n",
    "\n",
    "min_deg_out = 1\n",
    "max_deg_out = 493"
   ]
  },
  {
   "cell_type": "code",
   "execution_count": 12,
   "id": "30c59606-4e2e-455b-935a-9d740430470e",
   "metadata": {},
   "outputs": [
    {
     "data": {
      "application/vnd.jupyter.widget-view+json": {
       "model_id": "af3fb1f6c84d4c07b857dc35a7e01d12",
       "version_major": 2,
       "version_minor": 0
      },
      "text/plain": [
       "  0%|          | 0/68 [00:00<?, ?it/s]"
      ]
     },
     "metadata": {},
     "output_type": "display_data"
    }
   ],
   "source": [
    "import pandas as pd\n",
    "import os\n",
    "from tqdm.notebook import tqdm\n",
    "\n",
    "for file in tqdm(files):\n",
    "\n",
    "    filename = file.split(os.sep)[-1]\n",
    "    \n",
    "    try:\n",
    "        df = pd.read_csv(file, encoding='utf-8')\n",
    "    except Exception as e:\n",
    "        df = pd.read_csv(file, encoding='cp1252')\n",
    "        \n",
    "    df_cleaned = df.dropna()  # Remove null values\n",
    "    df_renamed = df_cleaned.rename(columns_mapping, axis=1) # Rename columns if necessary\n",
    "    df_corrected = df_renamed.astype(columns_types)\n",
    "\n",
    "    final_df = func1(df_corrected)\n",
    "\n",
    "    G, _ = func2(final_df)\n",
    "\n",
    "    nx.write_gml(G, f\"networks/{filename.split('.')[0]}.gml\")\n",
    "    \n",
    "    degrees_in = dict(G.in_degree()).values()\n",
    "    degrees_out = dict(G.out_degree()).values()\n",
    "\n",
    "    min_deg_in = min(min(degrees_in), min_deg_in)\n",
    "    max_deg_in = max(max(degrees_in), max_deg_in)\n",
    "    \n",
    "    min_deg_out = min(min(degrees_out), min_deg_out)\n",
    "    max_deg_out = max(max(degrees_out), max_deg_out)\n",
    "    \n",
    "    func3(G, filename, deg_ext=(min_deg_in, max_deg_in, min_deg_out, max_deg_out), bins=14)\n",
    "    func3(G, filename)\n"
   ]
  },
  {
   "cell_type": "code",
   "execution_count": null,
   "id": "06afdf68-fbed-4590-b511-fa824ce2c04d",
   "metadata": {},
   "outputs": [],
   "source": [
    "merged_df = func(merged_df)"
   ]
  },
  {
   "cell_type": "code",
   "execution_count": 135,
   "id": "9fd081fc-1511-41ab-9f24-a37b753e59fe",
   "metadata": {},
   "outputs": [],
   "source": [
    "G = func2(merged_df)"
   ]
  },
  {
   "cell_type": "code",
   "execution_count": 136,
   "id": "247d99a3-bae2-4b2b-9911-4407c1f92218",
   "metadata": {},
   "outputs": [
    {
     "name": "stdout",
     "output_type": "stream",
     "text": [
      "2023:\n",
      "563 57001\n"
     ]
    },
    {
     "data": {
      "image/png": "[encoded data removed]",
      "text/plain": [
       "<Figure size 1200x400 with 2 Axes>"
      ]
     },
     "metadata": {},
     "output_type": "display_data"
    },
    {
     "name": "stderr",
     "output_type": "stream",
     "text": [
      "/tmp/ipykernel_10849/3584234445.py:60: RuntimeWarning: divide by zero encountered in log10\n",
      "  in_log_be = np.log10(in_bin_edges)\n",
      "/tmp/ipykernel_10849/3584234445.py:63: RuntimeWarning: divide by zero encountered in log10\n",
      "  out_log_be = np.log10(out_bin_edges)\n"
     ]
    },
    {
     "data": {
      "image/png": "[encoded data removed]",
      "text/plain": [
       "<Figure size 1200x400 with 2 Axes>"
      ]
     },
     "metadata": {},
     "output_type": "display_data"
    }
   ],
   "source": [
    "func3(G, name=\"2023\")"
   ]
  },
  {
   "cell_type": "code",
   "execution_count": 47,
   "id": "e7f90255-42ad-4ac7-8751-9bc66c3b5254",
   "metadata": {
    "scrolled": true
   },
   "outputs": [],
   "source": [
    "# First\n",
    "from Threshold.similarity import compute_avg_similarity\n",
    "\n",
    "threshold = 0.33\n",
    "changes = []\n",
    "\n",
    "# we are trying to find the mapping and after we've found one, we replace the duplicates\n",
    "for id in temp_temp_df[temp_temp_df['Name'] == True].Id.to_numpy():\n",
    "    duplicates = temp_df[temp_df['Id'] == id]\n",
    "    size = len(duplicates)\n",
    "\n",
    "    # try:\n",
    "    #     choice = int(input(\"Input: \"))\n",
    "    # except Exception as e:\n",
    "    #     print(f\"you didn't choose for id = {id}\")\n",
    "    #     continue\n",
    "\n",
    "    similarity = compute_avg_similarity(duplicates.Name.to_numpy())\n",
    "\n",
    "    if similarity > threshold:\n",
    "        choice = size - 1\n",
    "    else:\n",
    "        choice = size\n",
    "    \n",
    "    # if any of the choices -> add a tuple for every other choice\n",
    "    # else do nothing\n",
    "    if choice < size:\n",
    "        \n",
    "        choice_name = duplicates.iloc[choice, 1]\n",
    "\n",
    "        for i in range(size):\n",
    "            if i == choice:\n",
    "                continue\n",
    "            changes.append((duplicates.iloc[i, 1], choice_name))\n",
    "\n"
   ]
  },
  {
   "cell_type": "code",
   "execution_count": 49,
   "id": "f78b3c5b-db19-4e61-8924-cd0b37c3e978",
   "metadata": {},
   "outputs": [
    {
     "data": {
      "application/vnd.jupyter.widget-view+json": {
       "model_id": "81c4a1a112a34505a8641f1407e08505",
       "version_major": 2,
       "version_minor": 0
      },
      "text/plain": [
       "  0%|          | 0/267 [00:00<?, ?it/s]"
      ]
     },
     "metadata": {},
     "output_type": "display_data"
    }
   ],
   "source": [
    "# First\n",
    "from tqdm.notebook import tqdm\n",
    "\n",
    "for change in tqdm(changes):\n",
    "\n",
    "    # print (change)\n",
    "\n",
    "    merged_df.loc[merged_df['Start Station Name'] == change[0], 'Start Station Name'] = change[1]\n",
    "\n",
    "    merged_df.loc[merged_df['End Station Name'] == change[0], 'End Station Name'] = change[1]\n",
    "\n",
    "    # df.loc[df[\"gender\"] == \"male\", \"gender\"] = 1"
   ]
  },
  {
   "cell_type": "code",
   "execution_count": 59,
   "id": "3bd22584-2304-48e3-96d0-6e52fcc44805",
   "metadata": {},
   "outputs": [],
   "source": [
    "# Second\n",
    "\n",
    "# got to fix some by inspection:\n",
    "\n",
    "new_changes = []\n",
    "\n",
    "for id in [7117, 7130, 7291, 7381]:\n",
    "    duplicates = temp_df[temp_df['Id'] == id]\n",
    "    size = len(duplicates)\n",
    "\n",
    "    choice = size - 1\n",
    "        \n",
    "    choice_name = duplicates.iloc[choice, 1]\n",
    "\n",
    "    for i in range(size):\n",
    "        if i == choice:\n",
    "            continue\n",
    "        new_changes.append((duplicates.iloc[i, 1], choice_name))\n",
    "\n"
   ]
  },
  {
   "cell_type": "code",
   "execution_count": 60,
   "id": "903c5b68-8f53-4a6c-bb38-751aefa6a9b2",
   "metadata": {},
   "outputs": [],
   "source": [
    "#Second\n",
    "\n",
    "for change in new_changes:\n",
    "\n",
    "    merged_df.loc[merged_df['Start Station Name'] == change[0], 'Start Station Name'] = change[1]\n",
    "\n",
    "    merged_df.loc[merged_df['End Station Name'] == change[0], 'End Station Name'] = change[1]\n"
   ]
  },
  {
   "cell_type": "code",
   "execution_count": 79,
   "id": "0fb0b6b4-29f0-40d0-8c3c-e1f197b7f72b",
   "metadata": {},
   "outputs": [],
   "source": [
    "# Forth\n",
    "# getting new ids for the places left with duplicate ids\n",
    "\n",
    "available_ids = list(set(range(7000,8000)) - set(temp_df['Id'].unique()))"
   ]
  },
  {
   "cell_type": "code",
   "execution_count": 80,
   "id": "e6ef86d5-866d-4ef8-8e63-e3e47b0081cd",
   "metadata": {},
   "outputs": [],
   "source": [
    "# Forth\n",
    "# got to fix some by inspection:\n",
    "import random\n",
    "\n",
    "new_id_changes = []\n",
    "\n",
    "temp_temp_df = (temp_df.groupby(\"Id\").count() > 1).reset_index()\n",
    "\n",
    "for id in temp_temp_df[temp_temp_df['Name'] == True].Id.to_numpy():\n",
    "\n",
    "    # choose one of the options to change id for\n",
    "    duplicates = temp_df[temp_df['Id'] == id]\n",
    "    size = len(duplicates)\n",
    "\n",
    "    choice = size - 1 \n",
    "    choice_name = duplicates.iloc[choice, 1]\n",
    "\n",
    "    new_id = random.choice(available_ids)\n",
    "    available_ids.remove(new_id)\n",
    "\n",
    "    new_id_changes.append(((id, choice_name), new_id))\n"
   ]
  },
  {
   "cell_type": "code",
   "execution_count": 81,
   "id": "f16969b5-8beb-4506-bfc3-60dded68174f",
   "metadata": {},
   "outputs": [],
   "source": [
    "# Forth\n",
    "for id_change in new_id_changes:\n",
    "\n",
    "    merged_df.loc[(merged_df['Start Station Id'] == id_change[0][0]) & (merged_df['Start Station Name'] == id_change[0][1]), 'Start Station Id'] = id_change[1]\n",
    "\n",
    "    merged_df.loc[(merged_df['End Station Id'] == id_change[0][0]) & (merged_df['End Station Name'] == id_change[0][1]), 'End Station Id'] = id_change[1]\n"
   ]
  },
  {
   "cell_type": "code",
   "execution_count": 91,
   "id": "71019fc3-c381-40b5-b9c4-c2443d9fc889",
   "metadata": {},
   "outputs": [
    {
     "data": {
      "text/plain": [
       "array(['Member', 'Casual', 'Annual Member', 'Casual Member'], dtype=object)"
      ]
     },
     "execution_count": 91,
     "metadata": {},
     "output_type": "execute_result"
    }
   ],
   "source": [
    "merged_df['User Type'].unique()"
   ]
  },
  {
   "cell_type": "code",
   "execution_count": 92,
   "id": "ac2de31e-b995-43b0-86c7-9c4f88b3a0c0",
   "metadata": {},
   "outputs": [],
   "source": [
    "def change_membership(membership):\n",
    "    if membership == 'Annual Member':\n",
    "        return 'Member'\n",
    "    elif membership == 'Casual Member':\n",
    "        return 'Casual'\n",
    "    else:\n",
    "        return membership\n",
    "\n",
    "merged_df['User Type'] = merged_df['User Type'].apply(change_membership)"
   ]
  },
  {
   "cell_type": "markdown",
   "id": "0046eb75-0845-4c63-8403-28928f6bd82e",
   "metadata": {},
   "source": [
    "#### one function to do it all"
   ]
  },
  {
   "cell_type": "code",
   "execution_count": 8,
   "id": "6200342f-d49f-450d-9a25-f5e20f296d59",
   "metadata": {},
   "outputs": [],
   "source": [
    "from Threshold.similarity import compute_avg_similarity\n",
    "import random\n",
    "\n",
    "def get_tempdf(df):\n",
    "    temp1_df = df[[\"Start Station Id\", \"Start Station Name\"]].rename({'Start Station Id':'Id', 'Start Station Name': 'Name'}, axis=1)\n",
    "    temp2_df = df[[\"End Station Id\", \"End Station Name\"]].rename({'End Station Id':'Id', 'End Station Name': 'Name'}, axis=1)\n",
    "    temp_df = pd.concat([temp1_df, temp2_df]).drop_duplicates()\n",
    "    return temp_df\n",
    "\n",
    "def change_membership(membership):\n",
    "    if membership == 'Annual Member':\n",
    "        return 'Member'\n",
    "    elif membership == 'Casual Member':\n",
    "        return 'Casual'\n",
    "    else:\n",
    "        return membership\n",
    "        \n",
    "def func1(df):\n",
    "    temp_df = get_tempdf(df)\n",
    "    temp_temp_df = (temp_df.groupby(\"Id\").count() > 1).reset_index()\n",
    "\n",
    "\n",
    "    threshold = 0.33\n",
    "    changes = []\n",
    "    \n",
    "    # we are trying to find the mapping and after we've found one, we replace the duplicates\n",
    "    for id in temp_temp_df[temp_temp_df['Name'] == True].Id.to_numpy():\n",
    "        duplicates = temp_df[temp_df['Id'] == id]\n",
    "        size = len(duplicates)\n",
    "    \n",
    "        similarity = compute_avg_similarity(duplicates.Name.to_numpy())\n",
    "    \n",
    "        if similarity > threshold:\n",
    "            choice = size - 1\n",
    "        else:\n",
    "            choice = size\n",
    "        \n",
    "        # if any of the choices -> add a tuple for every other choice\n",
    "        # else do nothing\n",
    "        if choice < size:\n",
    "            \n",
    "            choice_name = duplicates.iloc[choice, 1]\n",
    "    \n",
    "            for i in range(size):\n",
    "                if i == choice:\n",
    "                    continue\n",
    "                changes.append((duplicates.iloc[i, 1], choice_name))\n",
    "\n",
    "\n",
    "    for change in changes:\n",
    "        \n",
    "        df.loc[df['Start Station Name'] == change[0], 'Start Station Name'] = change[1]\n",
    "    \n",
    "        df.loc[df['End Station Name'] == change[0], 'End Station Name'] = change[1]\n",
    "\n",
    "    temp_df = get_tempdf(df)\n",
    "    new_changes = []\n",
    "\n",
    "    for id in [7117, 7130, 7291, 7381]:\n",
    "        duplicates = temp_df[temp_df['Id'] == id]\n",
    "        size = len(duplicates)\n",
    "\n",
    "        if size == 0:\n",
    "            continue\n",
    "    \n",
    "        choice = size - 1\n",
    "            \n",
    "        choice_name = duplicates.iloc[choice, 1]\n",
    "    \n",
    "        for i in range(size):\n",
    "            if i == choice:\n",
    "                continue\n",
    "            new_changes.append((duplicates.iloc[i, 1], choice_name))\n",
    "\n",
    "\n",
    "    comb_to_change = [((7001, \"Lower Jarvis St / The Esplanade\"), 7686)]\n",
    "\n",
    "    for change in comb_to_change:\n",
    "    \n",
    "        df.loc[(df['Start Station Id'] == change[0][0]) & (df['Start Station Name'] == change[0][1]), 'Start Station Id'] = change[1]\n",
    "    \n",
    "        df.loc[(df['End Station Id'] == change[0][0]) & (df['End Station Name'] == change[0][1]), 'End Station Id'] = change[1]\n",
    "\n",
    "    id_to_change = [(7720, 7372), (7685, 7322), (7712, 7072), (7680, 7510), (7792, 7098), (7470, 7398)]\n",
    "    \n",
    "    for change in id_to_change:\n",
    "    \n",
    "        df.loc[df['Start Station Id'] == change[0], 'Start Station Id'] = change[1]\n",
    "    \n",
    "        df.loc[df['End Station Id'] == change[0], 'End Station Id'] = change[1]\n",
    "\n",
    "    available_ids = list(set(range(7000,8000)) - set(temp_df['Id'].unique()))\n",
    "\n",
    "    new_id_changes = []\n",
    "    \n",
    "    temp_temp_df = (temp_df.groupby(\"Id\").count() > 1).reset_index()\n",
    "    \n",
    "    for id in temp_temp_df[temp_temp_df['Name'] == True].Id.to_numpy():\n",
    "    \n",
    "        # choose one of the options to change id for\n",
    "        duplicates = temp_df[temp_df['Id'] == id]\n",
    "        size = len(duplicates)\n",
    "    \n",
    "        choice = size - 1 \n",
    "        choice_name = duplicates.iloc[choice, 1]\n",
    "    \n",
    "        new_id = random.choice(available_ids)\n",
    "        available_ids.remove(new_id)\n",
    "    \n",
    "        new_id_changes.append(((id, choice_name), new_id))\n",
    "\n",
    "    for id_change in new_id_changes:\n",
    "    \n",
    "        df.loc[(df['Start Station Id'] == id_change[0][0]) & (df['Start Station Name'] == id_change[0][1]), 'Start Station Id'] = id_change[1]\n",
    "    \n",
    "        df.loc[(df['End Station Id'] == id_change[0][0]) & (df['End Station Name'] == id_change[0][1]), 'End Station Id'] = id_change[1]\n",
    "\n",
    "    df['User Type'] = df['User Type'].apply(change_membership)\n",
    "\n",
    "    df = df[df['Trip Duration'] > 29]\n",
    "\n",
    "    df = df[df['Start Station Id'] != df['End Station Id']]\n",
    "\n",
    "    df = df[df['Start Time'] < df['End Time']]\n",
    "\n",
    "    return df"
   ]
  },
  {
   "cell_type": "code",
   "execution_count": 9,
   "id": "4310efd5-9fd5-4378-834e-fc2d18ccca8e",
   "metadata": {},
   "outputs": [],
   "source": [
    "import numpy as np\n",
    "from sklearn.preprocessing import MinMaxScaler\n",
    "import networkx as nx\n",
    "\n",
    "def func2(df):\n",
    "    \n",
    "    whole_trips_df = df[['Start Time', 'End Time', 'Trip Id', 'Trip Duration', 'Start Station Id', 'End Station Id']]\n",
    "    whole_trips_df = whole_trips_df.astype({'Start Time': 'datetime64[ns]', 'End Time': 'datetime64[ns]'})\n",
    "\n",
    "    temp_df = whole_trips_df[['Start Time', 'End Time', 'Start Station Id', 'End Station Id', 'Trip Id']].groupby(['Start Station Id', 'End Station Id']).agg({'Trip Id': 'count', 'Start Time': 'min', 'End Time': 'max'}).reset_index().rename({'Trip Id': 'Trip Count'}, axis=1)\n",
    "    temp_df['Link Duration'] = temp_df.apply(lambda x: (x['End Time'] - x['Start Time']).ceil('d'), axis=1).astype('timedelta64[D]')\n",
    "    temp_df['Avg Duration'] = whole_trips_df[['Start Station Id', 'End Station Id', 'Trip Duration']].groupby(['Start Station Id', 'End Station Id']).mean().reset_index()['Trip Duration']\n",
    "    temp_df['duration_weights'] = temp_df['Avg Duration'].apply(lambda x: 1 / x)\n",
    "\n",
    "    temp_df['tpd_weights'] = temp_df.apply(lambda x: x['Trip Count'] / x['Link Duration'], axis=1)\n",
    "    temp_df = temp_df.rename({'Trip Count': 'trip_count_weights'}, axis=1).drop(['Start Time', 'End Time', 'Link Duration', 'Avg Duration'], axis=1)\n",
    "\n",
    "    nnp = np.percentile(temp_df[['trip_count_weights', 'duration_weights', 'tpd_weights']], 99, axis=0)\n",
    "    temp_df[['trip_count_weights', 'duration_weights', 'tpd_weights']] = np.clip(temp_df[['trip_count_weights', 'duration_weights', 'tpd_weights']], None, nnp)\n",
    "\n",
    "    min_max_scaler = MinMaxScaler((1, 10))\n",
    "    x_scaled = min_max_scaler.fit_transform(temp_df[['trip_count_weights', 'duration_weights', 'tpd_weights']])\n",
    "    temp_df[['trip_count_weights', 'duration_weights', 'tpd_weights']] = x_scaled\n",
    "\n",
    "    G = nx.from_pandas_edgelist(temp_df, source=\"Start Station Id\", target=\"End Station Id\", edge_attr=['trip_count_weights', 'duration_weights', 'tpd_weights'], create_using=nx.DiGraph)\n",
    "\n",
    "    node_labels = {d['Id']: d['Name'] for d in get_tempdf(df)[['Id', 'Name']].to_dict('records')}\n",
    "    nx.set_node_attributes(G, node_labels, name='Name')\n",
    "\n",
    "    return G, temp_df"
   ]
  },
  {
   "cell_type": "code",
   "execution_count": 10,
   "id": "bbbc682f-c1b2-40ab-82bb-dcf9f118c991",
   "metadata": {},
   "outputs": [],
   "source": [
    "import matplotlib.pyplot as plt\n",
    "\n",
    "def func3(G, name, deg_ext=None, bins=9):\n",
    "\n",
    "    # print(f\"{name}:\")\n",
    "    nodes, edges = G.number_of_nodes(), G.number_of_edges()\n",
    "\n",
    "    in_degrees = [deg for (id, deg) in G.in_degree() if deg > 0]\n",
    "    out_degrees = [deg for (id, deg) in G.out_degree() if deg > 0]\n",
    "\n",
    "    if deg_ext:\n",
    "        in_kmin, in_kmax, out_kmin, out_kmax = deg_ext\n",
    "    else:\n",
    "        print('hi')\n",
    "        in_kmin = min(in_degrees)\n",
    "        in_kmax = max(in_degrees)\n",
    "        out_kmin = min(out_degrees)\n",
    "        out_kmax = max(out_degrees)\n",
    "\n",
    "    # Get 10 logarithmically spaced bins between kmin and kmax\n",
    "    # in_bin_edges_log = np.logspace(np.log10(in_kmin + 1e-1), np.log10(in_kmax), num=bins + 1)\n",
    "    # out_bin_edges_log = np.logspace(np.log10(out_kmin + 1e-1), np.log10(out_kmax), num=bins + 1)\n",
    "    in_bin_edges_log = np.logspace(np.log10(in_kmin), np.log10(in_kmax), num=bins + 1)\n",
    "    out_bin_edges_log = np.logspace(np.log10(out_kmin), np.log10(out_kmax), num=bins + 1)\n",
    "\n",
    "    # histogram the data into these bins\n",
    "    in_density_log, _ = np.histogram(in_degrees, bins=in_bin_edges_log, density=True)    \n",
    "    out_density_log, _ = np.histogram(out_degrees, bins=out_bin_edges_log, density=True)\n",
    "    \n",
    "    # \"x\" should be midpoint (IN LOG SPACE) of each bin\n",
    "    in_log_be_log = np.log10(in_bin_edges_log)\n",
    "    in_x_log = 10**((in_log_be_log[1:] + in_log_be_log[:-1])/2)\n",
    "    \n",
    "    out_log_be_log = np.log10(out_bin_edges_log)\n",
    "    out_x_log = 10**((out_log_be_log[1:] + out_log_be_log[:-1])/2)\n",
    "\n",
    "    # Get 20 logarithmically spaced bins between kmin and kmax\n",
    "    in_bin_edges = np.linspace(in_kmin, in_kmax, num=bins + 1)\n",
    "    out_bin_edges = np.linspace(out_kmin, out_kmax, num=bins + 1)\n",
    "    \n",
    "    # histogram the data into these bins\n",
    "    in_density, _ = np.histogram(in_degrees, bins=in_bin_edges, density=True)\n",
    "    out_density, _ = np.histogram(out_degrees, bins=out_bin_edges, density=True)\n",
    "\n",
    "    # \"x\" should be midpoint (IN LOG SPACE) of each bin\n",
    "    in_log_be = np.log10(in_bin_edges)\n",
    "    in_x = 10**((in_log_be[1:] + in_log_be[:-1])/2)\n",
    "    \n",
    "    out_log_be = np.log10(out_bin_edges)\n",
    "    out_x = 10**((out_log_be[1:] + out_log_be[:-1])/2)\n",
    "\n",
    "    fig, axis = plt.subplots(2, 2, figsize=(12,9))\n",
    "\n",
    "    fig.suptitle(f\"{name}: nodes = {nodes}, edges = {edges}\")\n",
    "\n",
    "    axis = axis.ravel()\n",
    "\n",
    "    axis[0].loglog(in_x_log, in_density_log, marker='o', linestyle='none')\n",
    "    axis[0].set_xlabel(r\"in degree $k$ - loglog\", fontsize=16)\n",
    "    axis[0].set_ylabel(r\"$P(k)$\", fontsize=16)\n",
    "    \n",
    "    axis[1].loglog(out_x_log, out_density_log, marker='o', linestyle='none')\n",
    "    axis[1].set_xlabel(r\"out degree $k$ - loglog\", fontsize=16)\n",
    "    axis[1].set_ylabel(r\"$P(k)$\", fontsize=16)\n",
    "    \n",
    "    axis[2].plot(in_x, in_density, marker='o', linestyle='none')\n",
    "    axis[2].set_xlabel(r\"in degree $k$\", fontsize=16)\n",
    "    axis[2].set_ylabel(r\"$P(k)$\", fontsize=16)\n",
    "    \n",
    "    axis[3].plot(out_x, out_density, marker='o', linestyle='none')\n",
    "    axis[3].set_xlabel(r\"out degree $k$\", fontsize=16)\n",
    "    axis[3].set_ylabel(r\"$P(k)$\", fontsize=16)\n",
    "    \n",
    "    # save the plot\n",
    "    plt.tight_layout()\n",
    "    # plt.show()\n",
    "    fig.savefig(f\"figs3/{name.split('.')[0]}.png\")\n",
    "    plt.close()\n"
   ]
  }
 ],
 "metadata": {
  "kernelspec": {
   "display_name": "Python 3 (ipykernel)",
   "language": "python",
   "name": "python3"
  },
  "language_info": {
   "codemirror_mode": {
    "name": "ipython",
    "version": 3
   },
   "file_extension": ".py",
   "mimetype": "text/x-python",
   "name": "python",
   "nbconvert_exporter": "python",
   "pygments_lexer": "ipython3",
   "version": "3.10.12"
  }
 },
 "nbformat": 4,
 "nbformat_minor": 5
}
