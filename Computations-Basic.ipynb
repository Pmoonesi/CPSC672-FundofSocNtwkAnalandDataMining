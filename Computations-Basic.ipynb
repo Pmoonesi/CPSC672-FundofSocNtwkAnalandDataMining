{
 "cells": [
  {
   "cell_type": "markdown",
   "id": "a575aef4-a243-4786-882a-a430b9df4ec4",
   "metadata": {},
   "source": [
    "# Basic Measurements"
   ]
  },
  {
   "cell_type": "code",
   "execution_count": 1,
   "id": "65e5d4a2-1b17-4afc-a7dc-c16c4d28ac98",
   "metadata": {},
   "outputs": [],
   "source": [
    "import glob\n",
    "import networkx as nx\n",
    "from tqdm.notebook import tqdm\n",
    "import numpy as np"
   ]
  },
  {
   "cell_type": "code",
   "execution_count": 2,
   "id": "3b96257f-cd55-47de-8d94-6c01df68da62",
   "metadata": {},
   "outputs": [],
   "source": [
    "def read_network(filename):\n",
    "    G = nx.read_gml(filename)\n",
    "    G.remove_edges_from(list(nx.selfloop_edges(G)))\n",
    "    G.remove_nodes_from(list(nx.isolates(G)))\n",
    "    return G"
   ]
  },
  {
   "cell_type": "code",
   "execution_count": 3,
   "id": "80a90310-2641-479c-bd5e-ab01929c1114",
   "metadata": {},
   "outputs": [],
   "source": [
    "whole_network = nx.read_gml('Processed/grouped-network.gml')"
   ]
  },
  {
   "cell_type": "code",
   "execution_count": 9,
   "id": "572ed1b8-f925-4e2a-b658-2205d41619c2",
   "metadata": {},
   "outputs": [
    {
     "data": {
      "application/vnd.jupyter.widget-view+json": {
       "model_id": "cf6266fd2303421394a61483765beeee",
       "version_major": 2,
       "version_minor": 0
      },
      "text/plain": [
       "  0%|          | 0/12 [00:00<?, ?it/s]"
      ]
     },
     "metadata": {},
     "output_type": "display_data"
    },
    {
     "name": "stdout",
     "output_type": "stream",
     "text": [
      "Processed/years/average/months/network-10.gml\n"
     ]
    },
    {
     "data": {
      "application/vnd.jupyter.widget-view+json": {
       "model_id": "13e941c95d8644a78bd6ecfed1f80627",
       "version_major": 2,
       "version_minor": 0
      },
      "text/plain": [
       "  0%|          | 0/6 [00:00<?, ?it/s]"
      ]
     },
     "metadata": {},
     "output_type": "display_data"
    }
   ],
   "source": [
    "total_months_files = sorted(glob.glob('Processed/years/average/months/*.gml', recursive=True))\n",
    "total_temp_files = sorted(glob.glob('Processed/years/average/temp/*.gml', recursive=True))\n",
    "\n",
    "total_months = []\n",
    "for file in tqdm(total_months_files):\n",
    "    try:\n",
    "        G = read_network(file)\n",
    "        total_months.append(G)\n",
    "    except Exception as e:\n",
    "        print(file)\n",
    "        \n",
    "total_temp = []\n",
    "for file in tqdm(total_temp_files):\n",
    "    G = read_network(file)\n",
    "    total_temp.append(G)"
   ]
  },
  {
   "cell_type": "code",
   "execution_count": 6,
   "id": "87cda816-cd82-4eab-aa7b-140b7d7d8880",
   "metadata": {},
   "outputs": [
    {
     "data": {
      "application/vnd.jupyter.widget-view+json": {
       "model_id": "36236e5255cf430c8dcf8d452dc89933",
       "version_major": 2,
       "version_minor": 0
      },
      "text/plain": [
       "  0%|          | 0/12 [00:00<?, ?it/s]"
      ]
     },
     "metadata": {},
     "output_type": "display_data"
    },
    {
     "data": {
      "application/vnd.jupyter.widget-view+json": {
       "model_id": "5903515a37314aa4b235a14529abf48e",
       "version_major": 2,
       "version_minor": 0
      },
      "text/plain": [
       "  0%|          | 0/6 [00:00<?, ?it/s]"
      ]
     },
     "metadata": {},
     "output_type": "display_data"
    }
   ],
   "source": [
    "members_months_files = sorted(glob.glob('Processed/members/average/months/*.gml', recursive=True))\n",
    "members_temp_files = sorted(glob.glob('Processed/members/average/temp/*.gml', recursive=True))\n",
    "\n",
    "members_months = []\n",
    "for file in tqdm(members_months_files):\n",
    "    G = read_network(file)\n",
    "    members_months.append(G)\n",
    "\n",
    "members_temp = []\n",
    "for file in tqdm(members_temp_files):\n",
    "    G = read_network(file)\n",
    "    members_temp.append(G)"
   ]
  },
  {
   "cell_type": "code",
   "execution_count": 7,
   "id": "31c21a40-ccc9-4829-a6e8-c0b6c1b9390b",
   "metadata": {},
   "outputs": [
    {
     "data": {
      "application/vnd.jupyter.widget-view+json": {
       "model_id": "9c5b48db71ad43e8908aa8da71afff2a",
       "version_major": 2,
       "version_minor": 0
      },
      "text/plain": [
       "  0%|          | 0/12 [00:00<?, ?it/s]"
      ]
     },
     "metadata": {},
     "output_type": "display_data"
    },
    {
     "data": {
      "application/vnd.jupyter.widget-view+json": {
       "model_id": "f77c56f6d8a44b1e9b5491e159ca33a8",
       "version_major": 2,
       "version_minor": 0
      },
      "text/plain": [
       "  0%|          | 0/6 [00:00<?, ?it/s]"
      ]
     },
     "metadata": {},
     "output_type": "display_data"
    }
   ],
   "source": [
    "casuals_months_files = sorted(glob.glob('Processed/casuals/average/months/*.gml', recursive=True))\n",
    "casuals_temp_files = sorted(glob.glob('Processed/casuals/average/temp/*.gml', recursive=True))\n",
    "\n",
    "casuals_months = []\n",
    "for file in tqdm(casuals_months_files):\n",
    "    G = read_network(file)\n",
    "    casuals_months.append(G)\n",
    "\n",
    "casuals_temp = []\n",
    "for file in tqdm(casuals_temp_files):\n",
    "    G = read_network(file)\n",
    "    casuals_temp.append(G)"
   ]
  },
  {
   "cell_type": "markdown",
   "id": "85703ca9-6661-4e35-be21-0010a7bd9cc8",
   "metadata": {
    "jp-MarkdownHeadingCollapsed": true
   },
   "source": [
    "## number of nodes and edges"
   ]
  },
  {
   "cell_type": "code",
   "execution_count": 10,
   "id": "954f7da1-9a94-4150-850c-88e52f6895bc",
   "metadata": {},
   "outputs": [],
   "source": [
    "def get_nodes_and_edges(Gs):\n",
    "\n",
    "    if isinstance(Gs, nx.Graph):\n",
    "\n",
    "        return Gs.number_of_nodes(), Gs.number_of_edges()\n",
    "\n",
    "    elif isinstance(Gs, list):\n",
    "\n",
    "        nodes, edges = zip(*[(G.number_of_nodes(), G.number_of_edges()) for G in Gs])\n",
    "\n",
    "        return (np.mean(nodes), np.std(nodes)), (np.mean(edges), np.std(edges))"
   ]
  },
  {
   "cell_type": "code",
   "execution_count": 11,
   "id": "9b5ee998-b093-4c75-a21c-2af1cda4bb7c",
   "metadata": {},
   "outputs": [
    {
     "data": {
      "text/plain": [
       "(760, 294404)"
      ]
     },
     "execution_count": 11,
     "metadata": {},
     "output_type": "execute_result"
    }
   ],
   "source": [
    "# whole network\n",
    "get_nodes_and_edges(whole_network)"
   ]
  },
  {
   "cell_type": "code",
   "execution_count": 21,
   "id": "e61c389d-4c7f-46ce-8137-defcb06da915",
   "metadata": {},
   "outputs": [
    {
     "name": "stdout",
     "output_type": "stream",
     "text": [
      "all trips / months: ((691.1666666666666, 89.09155715080725), (152395.33333333334, 42698.121711876534))\n",
      "all trips / temp: ((715.5, 80.23662920802859), (157332.5, 85151.35426746502))\n"
     ]
    }
   ],
   "source": [
    "# all trips / months\n",
    "print(f\"all trips / months: {get_nodes_and_edges(total_months)}\")\n",
    "\n",
    "# all trips / temp\n",
    "print(f\"all trips / temp: {get_nodes_and_edges(total_temp)}\")\n"
   ]
  },
  {
   "cell_type": "code",
   "execution_count": 22,
   "id": "62ba2f67-9439-47cf-9748-6c1a75f92cdf",
   "metadata": {},
   "outputs": [
    {
     "name": "stdout",
     "output_type": "stream",
     "text": [
      "members / months: ((666.1666666666666, 72.4141253869406), (101564.75, 23713.028100339696))\n",
      "members / temp: ((684.6666666666666, 81.93425548708075), (108232.33333333333, 55015.91310298826))\n"
     ]
    }
   ],
   "source": [
    "# members / months\n",
    "print(f\"members / months: {get_nodes_and_edges(members_months)}\")\n",
    "\n",
    "# members / temp\n",
    "print(f\"members / temp: {get_nodes_and_edges(members_temp)}\")\n"
   ]
  },
  {
   "cell_type": "code",
   "execution_count": 23,
   "id": "9a604313-5d30-4260-b882-f862b698c4df",
   "metadata": {},
   "outputs": [
    {
     "name": "stdout",
     "output_type": "stream",
     "text": [
      "casuals / months: ((690.8333333333334, 88.86959860129646), (132261.91666666666, 45855.348876400334))\n",
      "casuals / temp: ((709.3333333333334, 91.07811055474427), (139776.0, 86033.50780170868))\n"
     ]
    }
   ],
   "source": [
    "# casuals / months\n",
    "print(f\"casuals / months: {get_nodes_and_edges(casuals_months)}\")\n",
    "\n",
    "# casuals / temp\n",
    "print(f\"casuals / temp: {get_nodes_and_edges(casuals_temp)}\")\n"
   ]
  },
  {
   "cell_type": "markdown",
   "id": "2d134a4d-e48d-4849-98af-b71863a75e07",
   "metadata": {
    "jp-MarkdownHeadingCollapsed": true
   },
   "source": [
    "## connected components"
   ]
  },
  {
   "cell_type": "code",
   "execution_count": 16,
   "id": "4dc6dc9e-ddec-4bdd-9095-6e59d7754e94",
   "metadata": {},
   "outputs": [],
   "source": [
    "def analyze_components(Gs):\n",
    "\n",
    "    if isinstance(Gs, nx.Graph):\n",
    "\n",
    "        print(f\"is weakly connected? {nx.is_weakly_connected(Gs)}\")\n",
    "\n",
    "        print(f\"is strongly connected? {nx.is_strongly_connected(Gs)}\")\n",
    "        \n",
    "        sccs = sorted(list(nx.strongly_connected_components(Gs)), key=lambda x: -len(x))\n",
    "        \n",
    "        print(f\"number of SCCs: {len(sccs)}\")\n",
    "        print(f\"size of biggest SCCs: {[len(scc) for scc in sccs[:]]}\")\n",
    "\n",
    "    elif isinstance(Gs, list):\n",
    "\n",
    "        are_sc = [nx.is_strongly_connected(G) for G in Gs]\n",
    "\n",
    "        if np.all(are_sc):\n",
    "            print(\"they are all strongly connected!\")\n",
    "            \n",
    "        elif np.any(are_sc):\n",
    "            num_sc = sum(are_sc)\n",
    "            print(f\"{num_sc} are strongly connected\")\n",
    "\n",
    "        are_wc = [nx.is_weakly_connected(G) for G in Gs]\n",
    "\n",
    "        if np.all(are_wc):\n",
    "            print(\"they are all weakly connected!\")\n",
    "            \n",
    "        elif np.any(are_wc):\n",
    "            num_wc = sum(are_wc)\n",
    "            print(f\"{num_wc} are weakly connected and {len(Gs) - num_wc} are not even weakly connected.\")\n",
    "\n",
    "        else:\n",
    "            print(\"none of them are even weakly connected!\")\n",
    "\n",
    "        scc_count = [nx.number_strongly_connected_components(G) for G in Gs]\n",
    "        biggest_scc = [max([len(scc) for scc in nx.strongly_connected_components(G)]) for G in Gs]\n",
    "\n",
    "        print(f\"number of SCCs in each graph: {scc_count}\")\n",
    "        print(f\"size of the biggest SCC in each graph: {biggest_scc}\")"
   ]
  },
  {
   "cell_type": "code",
   "execution_count": 17,
   "id": "499fcb0c-7357-4a54-9751-849d8f861770",
   "metadata": {},
   "outputs": [
    {
     "name": "stdout",
     "output_type": "stream",
     "text": [
      "is weakly connected? True\n",
      "is strongly connected? False\n",
      "number of SCCs: 2\n",
      "size of biggest SCCs: [759, 1]\n"
     ]
    }
   ],
   "source": [
    "analyze_components(whole_network)"
   ]
  },
  {
   "cell_type": "code",
   "execution_count": 18,
   "id": "7dccd39c-4525-43ba-9b68-c25c48ea5e63",
   "metadata": {},
   "outputs": [
    {
     "name": "stdout",
     "output_type": "stream",
     "text": [
      "total trips / months\n",
      "4 are strongly connected\n",
      "they are all weakly connected!\n",
      "number of SCCs in each graph: [3, 2, 1, 1, 10, 6, 4, 1, 3, 1, 3, 2]\n",
      "size of the biggest SCC in each graph: [563, 565, 565, 565, 737, 745, 750, 755, 758, 756, 755, 754]\n",
      "total trips / temp\n",
      "1 are strongly connected\n",
      "4 are weakly connected and 2 are not even weakly connected.\n",
      "number of SCCs in each graph: [37, 47, 5, 1, 2, 3]\n",
      "size of the biggest SCC in each graph: [500, 676, 748, 758, 759, 757]\n"
     ]
    }
   ],
   "source": [
    "print(\"total trips / months\")\n",
    "analyze_components(total_months)\n",
    "print(\"total trips / temp\")\n",
    "analyze_components(total_temp)"
   ]
  },
  {
   "cell_type": "code",
   "execution_count": 19,
   "id": "33a3781e-70ae-42f0-bc77-4c37562e32dc",
   "metadata": {},
   "outputs": [
    {
     "name": "stdout",
     "output_type": "stream",
     "text": [
      "casual users / months\n",
      "2 are strongly connected\n",
      "they are all weakly connected!\n",
      "number of SCCs in each graph: [5, 2, 1, 3, 13, 7, 4, 2, 2, 1, 4, 2]\n",
      "size of the biggest SCC in each graph: [558, 565, 565, 563, 727, 743, 750, 754, 758, 756, 754, 754]\n",
      "casual users / temp\n",
      "2 are strongly connected\n",
      "4 are weakly connected and 2 are not even weakly connected.\n",
      "number of SCCs in each graph: [61, 51, 8, 1, 1, 3]\n",
      "size of the biggest SCC in each graph: [447, 655, 745, 758, 759, 757]\n"
     ]
    }
   ],
   "source": [
    "print(\"casual users / months\")\n",
    "analyze_components(casuals_months)\n",
    "print(\"casual users / temp\")\n",
    "analyze_components(casuals_temp)"
   ]
  },
  {
   "cell_type": "code",
   "execution_count": 20,
   "id": "504b9762-a574-4eb9-8316-cf1fbc50553d",
   "metadata": {},
   "outputs": [
    {
     "name": "stdout",
     "output_type": "stream",
     "text": [
      "members / months\n",
      "2 are strongly connected\n",
      "5 are weakly connected and 7 are not even weakly connected.\n",
      "number of SCCs in each graph: [10, 1, 1, 6, 33, 21, 22, 22, 30, 17, 26, 24]\n",
      "size of the biggest SCC in each graph: [547, 565, 565, 551, 654, 683, 689, 708, 697, 710, 697, 685]\n",
      "members / temp\n",
      "1 are weakly connected and 5 are not even weakly connected.\n",
      "number of SCCs in each graph: [55, 34, 28, 25, 16, 18]\n",
      "size of the biggest SCC in each graph: [458, 606, 682, 716, 732, 720]\n"
     ]
    }
   ],
   "source": [
    "print(\"members / months\")\n",
    "analyze_components(members_months)\n",
    "print(\"members / temp\")\n",
    "analyze_components(members_temp)"
   ]
  },
  {
   "cell_type": "markdown",
   "id": "89af7b88-6449-4f86-8a2b-f2f9bb74fab7",
   "metadata": {
    "jp-MarkdownHeadingCollapsed": true
   },
   "source": [
    "## degree and strength distributions"
   ]
  },
  {
   "cell_type": "code",
   "execution_count": null,
   "id": "715eac56-99a4-4af0-87d8-b23ff5287c98",
   "metadata": {},
   "outputs": [],
   "source": [
    "import plotting.distributions as dist\n",
    "\n",
    "import importlib\n",
    "importlib.reload(plotting.distributions)"
   ]
  },
  {
   "cell_type": "code",
   "execution_count": 75,
   "id": "cfa4effd-2286-41f7-8eb9-f4fe6337c940",
   "metadata": {},
   "outputs": [],
   "source": [
    "def plot_all(Gs, G_filepaths, user_type, net_type, bins):\n",
    "    \n",
    "    min_kin, max_kin, min_kout, max_kout = np.inf, -np.inf, np.inf, -np.inf\n",
    "    \n",
    "    for G in Gs:\n",
    "        in_degrees = [deg for (id, deg) in G.in_degree(weight=None) if deg > 0]\n",
    "        out_degrees = [deg for (id, deg) in G.out_degree(weight=None) if deg > 0]\n",
    "    \n",
    "        min_kin = min(min(in_degrees), min_kin)\n",
    "        max_kin = max(max(in_degrees), max_kin)\n",
    "        min_kout = min(min(out_degrees), min_kout)\n",
    "        max_kout = max(max(out_degrees), max_kout)\n",
    "    \n",
    "    for (G, filepath) in zip(Gs, G_filepaths):\n",
    "        filename = filepath.split('/')[-1].split('.')[0]\n",
    "        dist.plot_distribution(G, filename, deg_ext=(min_kin, max_kin, min_kout, max_kout), bins=bins, save=True, save_folder=f'degree_dist/{user_type}/{net_type}')\n",
    "    \n",
    "    for weight in ['duration_weights', 'tpd_weights', 'trip_count_weights']:\n",
    "        \n",
    "        for G in Gs:\n",
    "            in_degrees = [deg for (id, deg) in G.in_degree(weight=weight) if deg > 0]\n",
    "            out_degrees = [deg for (id, deg) in G.out_degree(weight=weight) if deg > 0]\n",
    "        \n",
    "            min_kin = min(min(in_degrees), min_kin)\n",
    "            max_kin = max(max(in_degrees), max_kin)\n",
    "            min_kout = min(min(out_degrees), min_kout)\n",
    "            max_kout = max(max(out_degrees), max_kout)\n",
    "        \n",
    "        for (G, filepath) in zip(Gs, G_filepaths):\n",
    "            filename = filepath.split('/')[-1].split('.')[0]\n",
    "            dist.plot_distribution(G, filename, deg_ext=(min_kin, max_kin, min_kout, max_kout), bins=bins, save=True, save_folder=f'strength_dist/{weight}/{user_type}/{net_type}')"
   ]
  },
  {
   "cell_type": "code",
   "execution_count": 62,
   "id": "8d954001-6c08-4666-a0f1-ae175cc67eed",
   "metadata": {},
   "outputs": [],
   "source": [
    "dist.plot_distribution(whole_network, 'grouped-network', save=True, save_folder='degree_dist')\n",
    "\n",
    "for weight in ['duration_weights', 'tpd_weights', 'trip_count_weights']:\n",
    "    dist.plot_distribution(whole_network, 'grouped-network', weight=weight, save=True, save_folder=f'strength_dist/{weight}')"
   ]
  },
  {
   "cell_type": "code",
   "execution_count": 76,
   "id": "7592517a-2f6d-49e3-a8e6-d10e00d4c361",
   "metadata": {},
   "outputs": [],
   "source": [
    "# all_trips / averaged months\n",
    "\n",
    "plot_all(total_months, total_months_files, user_type='total', net_type='months', bins=9)"
   ]
  },
  {
   "cell_type": "code",
   "execution_count": 77,
   "id": "8b7d023f-8faf-400c-a30e-4f6cc105d683",
   "metadata": {},
   "outputs": [],
   "source": [
    "# all_trips / averaged temp\n",
    "\n",
    "plot_all(total_temp, total_temp_files, user_type='total', net_type='temp', bins=9)"
   ]
  },
  {
   "cell_type": "code",
   "execution_count": 78,
   "id": "6e8652d0-0c85-46a0-ab9c-d92de399445d",
   "metadata": {},
   "outputs": [],
   "source": [
    "# casuals / averaged months\n",
    "\n",
    "plot_all(casuals_months, casuals_months_files, user_type='casuals', net_type='months', bins=9)"
   ]
  },
  {
   "cell_type": "code",
   "execution_count": 79,
   "id": "e2e6fd42-f7f7-4402-982f-395d3cb9889c",
   "metadata": {},
   "outputs": [],
   "source": [
    "# casuals / averaged temp\n",
    "\n",
    "plot_all(casuals_temp, casuals_temp_files, user_type='casuals', net_type='temp', bins=9)"
   ]
  },
  {
   "cell_type": "code",
   "execution_count": 80,
   "id": "2a70c29c-7391-4d5b-9491-e1d6ca71003f",
   "metadata": {},
   "outputs": [],
   "source": [
    "# members / averaged months\n",
    "\n",
    "plot_all(members_months, members_months_files, user_type='members', net_type='months', bins=9)"
   ]
  },
  {
   "cell_type": "code",
   "execution_count": 81,
   "id": "fbc55502-4ee2-4aac-8c3d-f307ba1c4160",
   "metadata": {},
   "outputs": [],
   "source": [
    "# members / averaged temp\n",
    "\n",
    "plot_all(members_temp, members_temp_files, user_type='members', net_type='temp', bins=9)"
   ]
  },
  {
   "cell_type": "markdown",
   "id": "cb59845b-fd6a-4c2b-bc86-8f39ba7b37c0",
   "metadata": {
    "jp-MarkdownHeadingCollapsed": true
   },
   "source": [
    "## clustering coefficients"
   ]
  },
  {
   "cell_type": "code",
   "execution_count": 31,
   "id": "a7759d1e-a3bd-45b8-a331-3379f9d84012",
   "metadata": {},
   "outputs": [],
   "source": [
    "def get_average_clustering_coefficient(G, weight='weight'):\n",
    "\n",
    "    A = nx.to_numpy_array(G, weight=None)\n",
    "    W = nx.to_numpy_array(G, weight=weight)\n",
    "\n",
    "    EYE = np.eye(G.number_of_nodes(), dtype=bool)\n",
    "\n",
    "    D_tot = (A + A.T).sum(axis=0)\n",
    "    D_bi = (A @ A)[EYE]\n",
    "    denominator = 2 * (D_tot * (D_tot - 1) - 2 * D_bi)\n",
    "\n",
    "    W_temp = (W ** (1/3)) + (W.T ** (1/3))\n",
    "    numerator = (W_temp @ W_temp @ W_temp)[EYE]\n",
    "\n",
    "    cc = numerator / denominator\n",
    "\n",
    "    cc = cc[~np.isnan(cc)]\n",
    "\n",
    "    return np.mean(cc)"
   ]
  },
  {
   "cell_type": "code",
   "execution_count": 53,
   "id": "b4278553-b1ae-41e1-824e-f551e9cf42d9",
   "metadata": {},
   "outputs": [],
   "source": [
    "def get_all_cc(Gs):\n",
    "\n",
    "    if isinstance(Gs, nx.Graph):\n",
    "\n",
    "        F, I_trip_count, I_duration, I_tpd = get_average_clustering_coefficient(Gs, None),\\\n",
    "                                             get_average_clustering_coefficient(Gs, 'trip_count_weights'),\\\n",
    "                                             get_average_clustering_coefficient(Gs, 'duration_weights'),\\\n",
    "                                             get_average_clustering_coefficient(Gs, 'tpd_weights')\n",
    "\n",
    "        return F, I_trip_count, I_duration, I_tpd\n",
    "\n",
    "    elif isinstance(Gs, list):\n",
    "\n",
    "        Fs, I_trip_counts, I_durations, I_tpds = zip(*[(get_average_clustering_coefficient(G, None),\\\n",
    "                                             get_average_clustering_coefficient(G, 'trip_count_weights'),\\\n",
    "                                             get_average_clustering_coefficient(G, 'duration_weights'),\\\n",
    "                                             get_average_clustering_coefficient(G, 'tpd_weights')) for G in Gs])\n",
    "\n",
    "        # return (np.mean(Fs), np.std(Fs)), (np.mean(I_trip_counts), np.std(I_trip_counts)),\\\n",
    "        #        (np.mean(I_durations), np.std(I_durations)), (np.mean(I_tpds), np.std(I_tpds))\n",
    "        return Fs, I_trip_counts, I_durations, I_tpds"
   ]
  },
  {
   "cell_type": "code",
   "execution_count": 50,
   "id": "6b3ff860-85be-47c5-8976-304aae568335",
   "metadata": {},
   "outputs": [
    {
     "name": "stderr",
     "output_type": "stream",
     "text": [
      "/tmp/ipykernel_1236714/1536956272.py:15: RuntimeWarning: invalid value encountered in divide\n",
      "  cc = numerator / denominator\n"
     ]
    },
    {
     "name": "stdout",
     "output_type": "stream",
     "text": [
      "Whole network unweighted clustering coefficient: 0.7666361165386057\n",
      "Whole network weighted (trip_count) clustering coefficient: 1.1317566698350676\n",
      "Whole network weighted (duration) clustering coefficient: 2.8105667564009877\n",
      "Whole network weighted (tpd) clustering coefficient: 1.3886364068924162\n"
     ]
    }
   ],
   "source": [
    "# whole network\n",
    "\n",
    "F, I_trip_count, I_duration, I_tpd = get_all_cc(whole_network)\n",
    "\n",
    "print(f\"Whole network unweighted clustering coefficient: {F}\")\n",
    "print(f\"Whole network weighted (trip_count) clustering coefficient: {I_trip_count}\")\n",
    "print(f\"Whole network weighted (duration) clustering coefficient: {I_duration}\")\n",
    "print(f\"Whole network weighted (tpd) clustering coefficient: {I_tpd}\")"
   ]
  },
  {
   "cell_type": "code",
   "execution_count": 47,
   "id": "18a03ca5-e33c-4095-8c8d-39fafc030ad0",
   "metadata": {},
   "outputs": [
    {
     "name": "stderr",
     "output_type": "stream",
     "text": [
      "/tmp/ipykernel_1236714/1536956272.py:15: RuntimeWarning: invalid value encountered in divide\n",
      "  cc = numerator / denominator\n"
     ]
    },
    {
     "name": "stdout",
     "output_type": "stream",
     "text": [
      "for months networks of all trips, unweighted clustering coefficient: mean = 0.6207217312659078, std = 0.049224396483133925\n",
      "for months networks of all trips, weighted (trip_count) clustering coefficient: mean = 0.31266929206579763, std = 0.05748848995015758\n",
      "for months networks of all trips, weighted (duration) clustering coefficient: mean = 0.5937442637926144, std = 0.115290544739459\n",
      "for months networks of all trips, weighted (tpd) clustering coefficient: mean = 0.6788319728939405, std = 0.103159905259996\n",
      "for temp networks of all trips, unweighted clustering coefficient: mean = 0.572985811188754, std = 0.17746611829527018\n",
      "for temp networks of all trips, weighted (trip_count) clustering coefficient: mean = 0.3006936978723745, std = 0.132782833615733\n",
      "for temp networks of all trips, weighted (duration) clustering coefficient: mean = 0.623859765641903, std = 0.28546950309015706\n",
      "for temp networks of all trips, weighted (tpd) clustering coefficient: mean = 0.5817763372334237, std = 0.2074246321478335\n"
     ]
    }
   ],
   "source": [
    "# all trips / months\n",
    "Fs_total_months, I_trip_counts_total_months, I_durations_total_months, I_tpds_total_months = get_all_cc(total_months)\n",
    "\n",
    "print(f\"for months networks of all trips, unweighted clustering coefficient: mean = {np.mean(Fs_total_months)}, std = {np.std(Fs_total_months)}\")\n",
    "print(f\"for months networks of all trips, weighted (trip_count) clustering coefficient: mean = {np.mean(I_trip_counts_total_months)}, std = {np.std(I_trip_counts_total_months)}\")\n",
    "print(f\"for months networks of all trips, weighted (duration) clustering coefficient: mean = {np.mean(I_durations_total_months)}, std = {np.std(I_durations_total_months)}\")\n",
    "print(f\"for months networks of all trips, weighted (tpd) clustering coefficient: mean = {np.mean(I_tpds_total_months)}, std = {np.std(I_tpds_total_months)}\")\n",
    "\n",
    "# all trips / temp\n",
    "Fs_total_temp, I_trip_counts_total_temp, I_durations_total_temp, I_tpds_total_temp = get_all_cc(total_temp)\n",
    "\n",
    "print(f\"for temp networks of all trips, unweighted clustering coefficient: mean = {np.mean(Fs_total_temp)}, std = {np.std(Fs_total_temp)}\")\n",
    "print(f\"for temp networks of all trips, weighted (trip_count) clustering coefficient: mean = {np.mean(I_trip_counts_total_temp)}, std = {np.std(I_trip_counts_total_temp)}\")\n",
    "print(f\"for temp networks of all trips, weighted (duration) clustering coefficient: mean = {np.mean(I_durations_total_temp)}, std = {np.std(I_durations_total_temp)}\")\n",
    "print(f\"for temp networks of all trips, weighted (tpd) clustering coefficient: mean = {np.mean(I_tpds_total_temp)}, std = {np.std(I_tpds_total_temp)}\")\n"
   ]
  },
  {
   "cell_type": "code",
   "execution_count": 48,
   "id": "e5dc0900-45b5-403d-ab70-422339a20ee1",
   "metadata": {},
   "outputs": [
    {
     "name": "stderr",
     "output_type": "stream",
     "text": [
      "/tmp/ipykernel_1236714/1536956272.py:15: RuntimeWarning: invalid value encountered in divide\n",
      "  cc = numerator / denominator\n"
     ]
    },
    {
     "name": "stdout",
     "output_type": "stream",
     "text": [
      "for months networks of members, unweighted clustering coefficient: mean = 0.5779380850922655, std = 0.04795294332622858\n",
      "for months networks of members, weighted (trip_count) clustering coefficient: mean = 0.27847570426700147, std = 0.060413901944494516\n",
      "for months networks of members, weighted (duration) clustering coefficient: mean = 0.5148611657483274, std = 0.10613029502995511\n",
      "for months networks of members, weighted (tpd) clustering coefficient: mean = 0.6620791805818148, std = 0.11599002345116216\n",
      "for temp networks of members, unweighted clustering coefficient: mean = 0.5420500334582922, std = 0.16728391453000577\n",
      "for temp networks of members, weighted (trip_count) clustering coefficient: mean = 0.2636549796259393, std = 0.11275529295415054\n",
      "for temp networks of members, weighted (duration) clustering coefficient: mean = 0.5237057265735183, std = 0.22267273957917816\n",
      "for temp networks of members, weighted (tpd) clustering coefficient: mean = 0.5518421888941397, std = 0.19301310222066076\n"
     ]
    }
   ],
   "source": [
    "# members / months\n",
    "Fs_members_months, I_trip_counts_members_months, I_durations_members_months, I_tpds_members_months = get_all_cc(members_months)\n",
    "\n",
    "print(f\"for months networks of members, unweighted clustering coefficient: mean = {np.mean(Fs_members_months)}, std = {np.std(Fs_members_months)}\")\n",
    "print(f\"for months networks of members, weighted (trip_count) clustering coefficient: mean = {np.mean(I_trip_counts_members_months)}, std = {np.std(I_trip_counts_members_months)}\")\n",
    "print(f\"for months networks of members, weighted (duration) clustering coefficient: mean = {np.mean(I_durations_members_months)}, std = {np.std(I_durations_members_months)}\")\n",
    "print(f\"for months networks of members, weighted (tpd) clustering coefficient: mean = {np.mean(I_tpds_members_months)}, std = {np.std(I_tpds_members_months)}\")\n",
    "\n",
    "# members / temp\n",
    "Fs_members_temp, I_trip_counts_members_temp, I_durations_members_temp, I_tpds_members_temp = get_all_cc(members_temp)\n",
    "\n",
    "print(f\"for temp networks of members, unweighted clustering coefficient: mean = {np.mean(Fs_members_temp)}, std = {np.std(Fs_members_temp)}\")\n",
    "print(f\"for temp networks of members, weighted (trip_count) clustering coefficient: mean = {np.mean(I_trip_counts_members_temp)}, std = {np.std(I_trip_counts_members_temp)}\")\n",
    "print(f\"for temp networks of members, weighted (duration) clustering coefficient: mean = {np.mean(I_durations_members_temp)}, std = {np.std(I_durations_members_temp)}\")\n",
    "print(f\"for temp networks of members, weighted (tpd) clustering coefficient: mean = {np.mean(I_tpds_members_temp)}, std = {np.std(I_tpds_members_temp)}\")\n"
   ]
  },
  {
   "cell_type": "code",
   "execution_count": 49,
   "id": "bb5afe9a-c4fe-4d38-8c2f-21be062d67b0",
   "metadata": {},
   "outputs": [
    {
     "name": "stderr",
     "output_type": "stream",
     "text": [
      "/tmp/ipykernel_1236714/1536956272.py:15: RuntimeWarning: invalid value encountered in divide\n",
      "  cc = numerator / denominator\n"
     ]
    },
    {
     "name": "stdout",
     "output_type": "stream",
     "text": [
      "for months networks of casuals, unweighted clustering coefficient: mean = 0.5775650916118004, std = 0.06847991004941895\n",
      "for months networks of casuals, weighted (trip_count) clustering coefficient: mean = 0.23312626057708127, std = 0.05831604502268342\n",
      "for months networks of casuals, weighted (duration) clustering coefficient: mean = 0.4464320082299024, std = 0.1178221444990911\n",
      "for months networks of casuals, weighted (tpd) clustering coefficient: mean = 0.5092716635072668, std = 0.10876794971356403\n",
      "for temp networks of casuals, unweighted clustering coefficient: mean = 0.5163103371338763, std = 0.21283119953674362\n",
      "for temp networks of casuals, weighted (trip_count) clustering coefficient: mean = 0.22301399368613153, std = 0.11823364148629396\n",
      "for temp networks of casuals, weighted (duration) clustering coefficient: mean = 0.46434431650864755, std = 0.2553804596354678\n",
      "for temp networks of casuals, weighted (tpd) clustering coefficient: mean = 0.441746469946517, std = 0.2005753102866178\n"
     ]
    }
   ],
   "source": [
    "# casuals / months\n",
    "Fs_casuals_months, I_trip_counts_casuals_months, I_durations_casuals_months, I_tpds_casuals_months = get_all_cc(casuals_months)\n",
    "\n",
    "print(f\"for months networks of casuals, unweighted clustering coefficient: mean = {np.mean(Fs_casuals_months)}, std = {np.std(Fs_casuals_months)}\")\n",
    "print(f\"for months networks of casuals, weighted (trip_count) clustering coefficient: mean = {np.mean(I_trip_counts_casuals_months)}, std = {np.std(I_trip_counts_casuals_months)}\")\n",
    "print(f\"for months networks of casuals, weighted (duration) clustering coefficient: mean = {np.mean(I_durations_casuals_months)}, std = {np.std(I_durations_casuals_months)}\")\n",
    "print(f\"for months networks of casuals, weighted (tpd) clustering coefficient: mean = {np.mean(I_tpds_casuals_months)}, std = {np.std(I_tpds_casuals_months)}\")\n",
    "\n",
    "# casuals / temp\n",
    "Fs_casuals_temp, I_trip_counts_casuals_temp, I_durations_casuals_temp, I_tpds_casuals_temp = get_all_cc(casuals_temp)\n",
    "\n",
    "print(f\"for temp networks of casuals, unweighted clustering coefficient: mean = {np.mean(Fs_casuals_temp)}, std = {np.std(Fs_casuals_temp)}\")\n",
    "print(f\"for temp networks of casuals, weighted (trip_count) clustering coefficient: mean = {np.mean(I_trip_counts_casuals_temp)}, std = {np.std(I_trip_counts_casuals_temp)}\")\n",
    "print(f\"for temp networks of casuals, weighted (duration) clustering coefficient: mean = {np.mean(I_durations_casuals_temp)}, std = {np.std(I_durations_casuals_temp)}\")\n",
    "print(f\"for temp networks of casuals, weighted (tpd) clustering coefficient: mean = {np.mean(I_tpds_casuals_temp)}, std = {np.std(I_tpds_casuals_temp)}\")\n"
   ]
  }
 ],
 "metadata": {
  "kernelspec": {
   "display_name": "Python 3 (ipykernel)",
   "language": "python",
   "name": "python3"
  },
  "language_info": {
   "codemirror_mode": {
    "name": "ipython",
    "version": 3
   },
   "file_extension": ".py",
   "mimetype": "text/x-python",
   "name": "python",
   "nbconvert_exporter": "python",
   "pygments_lexer": "ipython3",
   "version": "3.12.5"
  }
 },
 "nbformat": 4,
 "nbformat_minor": 5
}
